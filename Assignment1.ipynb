{
 "cells": [
  {
   "cell_type": "code",
   "execution_count": 1,
   "metadata": {},
   "outputs": [],
   "source": [
    "import pandas as pd\n",
    "import numpy as np\n",
    "import seaborn as sns\n",
    "import matplotlib.pyplot as plt\n"
   ]
  },
  {
   "cell_type": "code",
   "execution_count": 11,
   "metadata": {},
   "outputs": [],
   "source": [
    "df= pd.read_csv('Titanic.csv')"
   ]
  },
  {
   "cell_type": "code",
   "execution_count": null,
   "metadata": {},
   "outputs": [],
   "source": [
    "df"
   ]
  },
  {
   "cell_type": "markdown",
   "metadata": {},
   "source": [
    "Normalization"
   ]
  },
  {
   "cell_type": "markdown",
   "metadata": {},
   "source": [
    "Outliers in Fare"
   ]
  },
  {
   "cell_type": "code",
   "execution_count": null,
   "metadata": {},
   "outputs": [],
   "source": [
    "import pandas as pd\n",
    "\n",
    "# Assuming df is your DataFrame and 'Age' is the column you want to process\n",
    "column = df['Fare']\n",
    "\n",
    "Q1 = column.quantile(0.25)\n",
    "Q3 = column.quantile(0.75)\n",
    "IQR = Q3 - Q1\n",
    "lower_bound = Q1 - 1.5 * IQR\n",
    "upper_bound = Q3 + 1.5 * IQR\n",
    "\n",
    "outliers = column[(column < lower_bound) | (column > upper_bound)]\n",
    "\n",
    "print(f\"Q1: {Q1} Q3: {Q3} Outliers:(count: {len(outliers)})\")\n",
    "print(outliers)"
   ]
  },
  {
   "cell_type": "markdown",
   "metadata": {},
   "source": [
    "Correlation"
   ]
  },
  {
   "cell_type": "code",
   "execution_count": 36,
   "metadata": {},
   "outputs": [
    {
     "name": "stdout",
     "output_type": "stream",
     "text": [
      "Correlation between Age and Fare: 0.745846800563741\n"
     ]
    }
   ],
   "source": [
    "import pandas as pd\n",
    "\n",
    "correlation = df['Age'].corr(df['Fare'])\n",
    "print(\"Correlation between Age and Fare:\", correlation)"
   ]
  },
  {
   "cell_type": "markdown",
   "metadata": {},
   "source": [
    "Separate independent features and Target Variables. in the data set"
   ]
  },
  {
   "cell_type": "code",
   "execution_count": 38,
   "metadata": {},
   "outputs": [
    {
     "name": "stdout",
     "output_type": "stream",
     "text": [
      "Independent Features:\n",
      "   PassengerId  Pclass                                               Name  \\\n",
      "0            1       3                            Braund, Mr. Owen Harris   \n",
      "1            2       1  Cumings, Mrs. John Bradley (Florence Briggs Th...   \n",
      "2            3       3                             Heikkinen, Miss. Laina   \n",
      "3            4       1       Futrelle, Mrs. Jacques Heath (Lily May Peel)   \n",
      "4            5       3                           Allen, Mr. William Henry   \n",
      "\n",
      "      Sex   Age  SibSp  Parch            Ticket     Fare Cabin Embarked  \n",
      "0    male  22.0      1      0         A/5 21171   7.2500   NaN        S  \n",
      "1  female  38.0      1      0          PC 17599  71.2833   C85        C  \n",
      "2  female  26.0      0      0  STON/O2. 3101282   7.9250   NaN        S  \n",
      "3  female  35.0      1      0            113803  53.1000  C123        S  \n",
      "4    male  35.0      0      0            373450   8.0500   NaN        S  \n",
      "\n",
      "Target Variable:\n",
      "0    0\n",
      "1    1\n",
      "2    1\n",
      "3    1\n",
      "4    0\n",
      "Name: Survived, dtype: int64\n"
     ]
    }
   ],
   "source": [
    "import pandas as pd\n",
    "\n",
    "# Load the dataset\n",
    "df = pd.read_csv('Titanic.csv')\n",
    "\n",
    "# Separate the target variable\n",
    "target = df['Survived']\n",
    "\n",
    "# Separate the independent features\n",
    "features = df.drop(columns=['Survived'])\n",
    "\n",
    "print(\"Independent Features:\")\n",
    "print(features.head())\n",
    "\n",
    "print(\"\\nTarget Variable:\")\n",
    "print(target.head())"
   ]
  },
  {
   "cell_type": "markdown",
   "metadata": {},
   "source": [
    "Features Scaling"
   ]
  },
  {
   "cell_type": "markdown",
   "metadata": {},
   "source": [
    "MIN MAX"
   ]
  },
  {
   "cell_type": "code",
   "execution_count": 39,
   "metadata": {},
   "outputs": [
    {
     "name": "stdout",
     "output_type": "stream",
     "text": [
      "Min-Max Scaled 'Fare':\n",
      "      Fare  Fare_Min_Max_Scaled\n",
      "0   7.2500             0.014151\n",
      "1  71.2833             0.139136\n",
      "2   7.9250             0.015469\n",
      "3  53.1000             0.103644\n",
      "4   8.0500             0.015713\n"
     ]
    }
   ],
   "source": [
    "import pandas as pd\n",
    "\n",
    "df = pd.read_csv('Titanic.csv')\n",
    "\n",
    "fare = df['Fare']\n",
    "fare_min = fare.min()\n",
    "fare_max = fare.max()\n",
    "\n",
    "fare_min_max_scaled = (fare - fare_min) / (fare_max - fare_min)\n",
    "\n",
    "df['Fare_Min_Max_Scaled'] = fare_min_max_scaled\n",
    "\n",
    "print(\"Min-Max Scaled 'Fare':\")\n",
    "print(df[['Fare', 'Fare_Min_Max_Scaled']].head())"
   ]
  },
  {
   "cell_type": "markdown",
   "metadata": {},
   "source": [
    "Z-SCORE Normalization"
   ]
  },
  {
   "cell_type": "code",
   "execution_count": 40,
   "metadata": {},
   "outputs": [
    {
     "name": "stdout",
     "output_type": "stream",
     "text": [
      "Z-Score Normalized 'Fare':\n",
      "      Fare  Fare_Z_Score_Normalized\n",
      "0   7.2500                -0.502163\n",
      "1  71.2833                 0.786404\n",
      "2   7.9250                -0.488580\n",
      "3  53.1000                 0.420494\n",
      "4   8.0500                -0.486064\n"
     ]
    }
   ],
   "source": [
    "import pandas as pd\n",
    "\n",
    "df = pd.read_csv('Titanic.csv')\n",
    "\n",
    "fare = df['Fare']\n",
    "fare_mean = fare.mean()\n",
    "fare_std = fare.std()\n",
    "\n",
    "fare_z_score_normalized = (fare - fare_mean) / fare_std\n",
    "\n",
    "df['Fare_Z_Score_Normalized'] = fare_z_score_normalized\n",
    "\n",
    "print(\"Z-Score Normalized 'Fare':\")\n",
    "print(df[['Fare', 'Fare_Z_Score_Normalized']].head())"
   ]
  }
 ],
 "metadata": {
  "kernelspec": {
   "display_name": "Python 3",
   "language": "python",
   "name": "python3"
  },
  "language_info": {
   "codemirror_mode": {
    "name": "ipython",
    "version": 3
   },
   "file_extension": ".py",
   "mimetype": "text/x-python",
   "name": "python",
   "nbconvert_exporter": "python",
   "pygments_lexer": "ipython3",
   "version": "3.13.1"
  }
 },
 "nbformat": 4,
 "nbformat_minor": 2
}
