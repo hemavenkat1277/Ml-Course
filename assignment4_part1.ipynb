{
 "cells": [
  {
   "cell_type": "code",
   "execution_count": 2,
   "id": "8a4ca701",
   "metadata": {},
   "outputs": [],
   "source": [
    "import pandas as pd\n",
    "import numpy as np"
   ]
  },
  {
   "cell_type": "code",
   "execution_count": 3,
   "id": "1f74671f",
   "metadata": {},
   "outputs": [],
   "source": [
    "iris = pd.read_csv('Iris.csv')\n",
    "iris.drop(columns=['Id'], inplace=True)"
   ]
  },
  {
   "cell_type": "code",
   "execution_count": 4,
   "id": "c07ad250",
   "metadata": {},
   "outputs": [
    {
     "data": {
      "text/html": [
       "<div>\n",
       "<style scoped>\n",
       "    .dataframe tbody tr th:only-of-type {\n",
       "        vertical-align: middle;\n",
       "    }\n",
       "\n",
       "    .dataframe tbody tr th {\n",
       "        vertical-align: top;\n",
       "    }\n",
       "\n",
       "    .dataframe thead th {\n",
       "        text-align: right;\n",
       "    }\n",
       "</style>\n",
       "<table border=\"1\" class=\"dataframe\">\n",
       "  <thead>\n",
       "    <tr style=\"text-align: right;\">\n",
       "      <th></th>\n",
       "      <th>SepalLengthCm</th>\n",
       "      <th>SepalWidthCm</th>\n",
       "      <th>PetalLengthCm</th>\n",
       "      <th>PetalWidthCm</th>\n",
       "      <th>Species</th>\n",
       "    </tr>\n",
       "  </thead>\n",
       "  <tbody>\n",
       "    <tr>\n",
       "      <th>0</th>\n",
       "      <td>5.1</td>\n",
       "      <td>3.5</td>\n",
       "      <td>1.4</td>\n",
       "      <td>0.2</td>\n",
       "      <td>Iris-setosa</td>\n",
       "    </tr>\n",
       "    <tr>\n",
       "      <th>1</th>\n",
       "      <td>4.9</td>\n",
       "      <td>3.0</td>\n",
       "      <td>1.4</td>\n",
       "      <td>0.2</td>\n",
       "      <td>Iris-setosa</td>\n",
       "    </tr>\n",
       "    <tr>\n",
       "      <th>2</th>\n",
       "      <td>4.7</td>\n",
       "      <td>3.2</td>\n",
       "      <td>1.3</td>\n",
       "      <td>0.2</td>\n",
       "      <td>Iris-setosa</td>\n",
       "    </tr>\n",
       "    <tr>\n",
       "      <th>3</th>\n",
       "      <td>4.6</td>\n",
       "      <td>3.1</td>\n",
       "      <td>1.5</td>\n",
       "      <td>0.2</td>\n",
       "      <td>Iris-setosa</td>\n",
       "    </tr>\n",
       "    <tr>\n",
       "      <th>4</th>\n",
       "      <td>5.0</td>\n",
       "      <td>3.6</td>\n",
       "      <td>1.4</td>\n",
       "      <td>0.2</td>\n",
       "      <td>Iris-setosa</td>\n",
       "    </tr>\n",
       "  </tbody>\n",
       "</table>\n",
       "</div>"
      ],
      "text/plain": [
       "   SepalLengthCm  SepalWidthCm  PetalLengthCm  PetalWidthCm      Species\n",
       "0            5.1           3.5            1.4           0.2  Iris-setosa\n",
       "1            4.9           3.0            1.4           0.2  Iris-setosa\n",
       "2            4.7           3.2            1.3           0.2  Iris-setosa\n",
       "3            4.6           3.1            1.5           0.2  Iris-setosa\n",
       "4            5.0           3.6            1.4           0.2  Iris-setosa"
      ]
     },
     "execution_count": 4,
     "metadata": {},
     "output_type": "execute_result"
    }
   ],
   "source": [
    "iris.head()"
   ]
  },
  {
   "cell_type": "code",
   "execution_count": 5,
   "id": "0f591e0e",
   "metadata": {},
   "outputs": [],
   "source": [
    "#encoding species labels to integers\n",
    "species_mapping = {species: idx for idx, species in enumerate(iris['Species'].unique())}\n",
    "iris['Species'] = iris['Species'].map(species_mapping)"
   ]
  },
  {
   "cell_type": "code",
   "execution_count": 6,
   "id": "4093bee4",
   "metadata": {},
   "outputs": [],
   "source": [
    "# decision tree functions\n",
    "def entropy(y):\n",
    "    #entropy of label dist\n",
    "    unique, counts = np.unique(y, return_counts=True)\n",
    "    probabilities = counts / counts.sum()\n",
    "    return -np.sum(probabilities * np.log2(probabilities + 1e-9))  # small epsilon to avoid log(0)"
   ]
  },
  {
   "cell_type": "code",
   "execution_count": 7,
   "id": "ee0856bb",
   "metadata": {},
   "outputs": [],
   "source": [
    "def information_gain(X_col, y, split_threshold):\n",
    "    #information gain for potential split\n",
    "    parent_entropy = entropy(y)\n",
    "    left_indices = X_col <= split_threshold\n",
    "    right_indices = X_col > split_threshold\n",
    "\n",
    "    if sum(left_indices) == 0 or sum(right_indices) == 0:\n",
    "        return 0\n",
    "\n",
    "    n = len(y)\n",
    "    n_left, n_right = sum(left_indices), sum(right_indices)\n",
    "    left_entropy = entropy(y[left_indices])\n",
    "    right_entropy = entropy(y[right_indices])\n",
    "\n",
    "    child_entropy = (n_left / n) * left_entropy + (n_right / n) * right_entropy\n",
    "    return parent_entropy - child_entropy"
   ]
  },
  {
   "cell_type": "code",
   "execution_count": 8,
   "id": "ac63f7d4",
   "metadata": {},
   "outputs": [],
   "source": [
    "def best_split(X, y):\n",
    "    #find best feature and threshold to split\n",
    "    best_gain = -1\n",
    "    best_feature = None\n",
    "    best_threshold = None\n",
    "\n",
    "    for col in range(X.shape[1]):\n",
    "        thresholds = np.unique(X[:, col])\n",
    "        for threshold in thresholds:\n",
    "            gain = information_gain(X[:, col], y, threshold)\n",
    "            if gain > best_gain:\n",
    "                best_gain = gain\n",
    "                best_feature = col\n",
    "                best_threshold = threshold\n",
    "    return best_feature, best_threshold"
   ]
  },
  {
   "cell_type": "code",
   "execution_count": 9,
   "id": "e81453c9",
   "metadata": {},
   "outputs": [],
   "source": [
    "#decision tree structure\n",
    "class DecisionTree:\n",
    "    def __init__(self, max_depth=None):\n",
    "        self.max_depth = max_depth\n",
    "        self.tree = None\n",
    "\n",
    "    def fit(self, X, y, depth=0):\n",
    "        n_samples, n_features = X.shape\n",
    "        n_labels = len(np.unique(y))\n",
    "\n",
    "        if n_labels == 1 or n_samples == 0 or (self.max_depth and depth >= self.max_depth):\n",
    "            most_common_label = np.argmax(np.bincount(y))\n",
    "            return {'label': most_common_label}\n",
    "\n",
    "        feature, threshold = best_split(X, y)\n",
    "        if feature is None:\n",
    "            most_common_label = np.argmax(np.bincount(y))\n",
    "            return {'label': most_common_label}\n",
    "\n",
    "        left_indices = X[:, feature] <= threshold\n",
    "        right_indices = X[:, feature] > threshold\n",
    "        left_subtree = self.fit(X[left_indices], y[left_indices], depth + 1)\n",
    "        right_subtree = self.fit(X[right_indices], y[right_indices], depth + 1)\n",
    "\n",
    "        return {\n",
    "            'feature': feature,\n",
    "            'threshold': threshold,\n",
    "            'left': left_subtree,\n",
    "            'right': right_subtree\n",
    "        }\n",
    "\n",
    "    def predict_sample(self, x, tree):\n",
    "        if 'label' in tree:\n",
    "            return tree['label']\n",
    "        feature = tree['feature']\n",
    "        threshold = tree['threshold']\n",
    "        if x[feature] <= threshold:\n",
    "            return self.predict_sample(x, tree['left'])\n",
    "        else:\n",
    "            return self.predict_sample(x, tree['right'])\n",
    "\n",
    "    def predict(self, X):\n",
    "        return np.array([self.predict_sample(x, self.tree) for x in X])\n"
   ]
  },
  {
   "cell_type": "code",
   "execution_count": 10,
   "id": "6eb50ca6",
   "metadata": {},
   "outputs": [],
   "source": [
    "#training and test\n",
    "from sklearn.model_selection import train_test_split"
   ]
  },
  {
   "cell_type": "code",
   "execution_count": 11,
   "id": "819c4f7f",
   "metadata": {},
   "outputs": [],
   "source": [
    "X = iris.iloc[:, :-1].values  #features\n",
    "y = iris.iloc[:, -1].values  #labels"
   ]
  },
  {
   "cell_type": "code",
   "execution_count": 12,
   "id": "de18c271",
   "metadata": {},
   "outputs": [],
   "source": [
    "X_train, X_test, y_train, y_test = train_test_split(X, y, test_size=0.2, random_state=42)"
   ]
  },
  {
   "cell_type": "code",
   "execution_count": 13,
   "id": "4b148d96",
   "metadata": {},
   "outputs": [],
   "source": [
    "#train decision tree\n",
    "tree = DecisionTree(max_depth=3)\n",
    "tree.tree = tree.fit(X_train, y_train)"
   ]
  },
  {
   "cell_type": "code",
   "execution_count": 14,
   "id": "0d895c9b",
   "metadata": {},
   "outputs": [
    {
     "name": "stdout",
     "output_type": "stream",
     "text": [
      "accuracy: 1.00\n"
     ]
    }
   ],
   "source": [
    "#predict\n",
    "y_pred = tree.predict(X_test)\n",
    "accuracy = np.mean(y_pred == y_test)\n",
    "print(f\"accuracy: {accuracy:.2f}\")"
   ]
  },
  {
   "cell_type": "code",
   "execution_count": 15,
   "id": "1e7c1ba3",
   "metadata": {},
   "outputs": [
    {
     "data": {
      "image/png": "[encoded data removed]",
      "text/plain": [
       "<Figure size 1200x800 with 1 Axes>"
      ]
     },
     "metadata": {},
     "output_type": "display_data"
    }
   ],
   "source": [
    "import matplotlib.pyplot as plt\n",
    "\n",
    "# Feature names corresponding to the columns in the dataset\n",
    "feature_names = ['SepalLengthCm', 'SepalWidthCm', 'PetalLengthCm', 'PetalWidthCm']\n",
    "\n",
    "def plot_tree(tree, feature_names, x=0.5, y=1.0, dx=0.1, dy=0.1, ax=None, depth=0):\n",
    "    if ax is None:\n",
    "        fig, ax = plt.subplots(figsize=(12, 8))\n",
    "        ax.axis('off')\n",
    "\n",
    "    # If it's a leaf node\n",
    "    if 'label' in tree:\n",
    "        ax.text(x, y, f\"Predict: {tree['label']}\", ha='center', fontsize=12, fontweight='bold', \n",
    "                bbox=dict(facecolor='lightgreen', edgecolor='black', boxstyle='round,pad=0.3'))\n",
    "        return\n",
    "\n",
    "    feature = feature_names[tree['feature']]\n",
    "    threshold = tree['threshold']\n",
    "    ax.text(x, y, f\"{feature} <= {threshold:.2f}\", ha='center', fontsize=12, fontweight='bold',\n",
    "            bbox=dict(facecolor='lightblue', edgecolor='black', boxstyle='round,pad=0.3'))\n",
    "\n",
    "    # Recursively plot left and right branches\n",
    "    left_x, right_x = x - dx / (2 ** depth), x + dx / (2 ** depth)\n",
    "\n",
    "    # Change line style for branches\n",
    "    ax.plot([x, left_x], [y, y - dy], 'k-', lw=2)  # Left branch\n",
    "    ax.plot([x, right_x], [y, y - dy], 'k-', lw=2)  # Right branch\n",
    "\n",
    "    # Recursively plot subtrees with different branches\n",
    "    plot_tree(tree['left'], feature_names, left_x, y - dy, dx, dy, ax, depth + 1)\n",
    "    plot_tree(tree['right'], feature_names, right_x, y - dy, dx, dy, ax, depth + 1)\n",
    "\n",
    "# Plot the tree\n",
    "plot_tree(tree.tree, feature_names)\n",
    "\n",
    "# Show the plot with improved design\n",
    "plt.show()\n"
   ]
  },
  {
   "cell_type": "code",
   "execution_count": null,
   "id": "ad5c4c68",
   "metadata": {},
   "outputs": [],
   "source": []
  }
 ],
 "metadata": {
  "kernelspec": {
   "display_name": "Python 3 (ipykernel)",
   "language": "python",
   "name": "python3"
  },
  "language_info": {
   "codemirror_mode": {
    "name": "ipython",
    "version": 3
   },
   "file_extension": ".py",
   "mimetype": "text/x-python",
   "name": "python",
   "nbconvert_exporter": "python",
   "pygments_lexer": "ipython3",
   "version": "3.10.9"
  }
 },
 "nbformat": 4,
 "nbformat_minor": 5
}
