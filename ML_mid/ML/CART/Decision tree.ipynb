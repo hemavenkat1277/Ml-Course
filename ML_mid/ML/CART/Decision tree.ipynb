{
 "cells": [
  {
   "cell_type": "code",
   "execution_count": 23,
   "id": "a42d3cb3",
   "metadata": {},
   "outputs": [],
   "source": [
    "import numpy as nm\n",
    "import pandas as pd\n",
    "import matplotlib.pyplot as plt\n",
    "from sklearn.model_selection import train_test_split\n",
    "import seaborn as sns\n",
    "import math\n",
    "from collections import Counter"
   ]
  },
  {
   "cell_type": "code",
   "execution_count": 24,
   "id": "dc19d7a4",
   "metadata": {},
   "outputs": [
    {
     "data": {
      "text/html": [
       "<div>\n",
       "<style scoped>\n",
       "    .dataframe tbody tr th:only-of-type {\n",
       "        vertical-align: middle;\n",
       "    }\n",
       "\n",
       "    .dataframe tbody tr th {\n",
       "        vertical-align: top;\n",
       "    }\n",
       "\n",
       "    .dataframe thead th {\n",
       "        text-align: right;\n",
       "    }\n",
       "</style>\n",
       "<table border=\"1\" class=\"dataframe\">\n",
       "  <thead>\n",
       "    <tr style=\"text-align: right;\">\n",
       "      <th></th>\n",
       "      <th>Id</th>\n",
       "      <th>SepalLengthCm</th>\n",
       "      <th>SepalWidthCm</th>\n",
       "      <th>PetalLengthCm</th>\n",
       "      <th>PetalWidthCm</th>\n",
       "      <th>Species</th>\n",
       "    </tr>\n",
       "  </thead>\n",
       "  <tbody>\n",
       "    <tr>\n",
       "      <th>0</th>\n",
       "      <td>1</td>\n",
       "      <td>5.1</td>\n",
       "      <td>3.5</td>\n",
       "      <td>1.4</td>\n",
       "      <td>0.2</td>\n",
       "      <td>Iris-setosa</td>\n",
       "    </tr>\n",
       "    <tr>\n",
       "      <th>1</th>\n",
       "      <td>2</td>\n",
       "      <td>4.9</td>\n",
       "      <td>3.0</td>\n",
       "      <td>1.4</td>\n",
       "      <td>0.2</td>\n",
       "      <td>Iris-setosa</td>\n",
       "    </tr>\n",
       "    <tr>\n",
       "      <th>2</th>\n",
       "      <td>3</td>\n",
       "      <td>4.7</td>\n",
       "      <td>3.2</td>\n",
       "      <td>1.3</td>\n",
       "      <td>0.2</td>\n",
       "      <td>Iris-setosa</td>\n",
       "    </tr>\n",
       "    <tr>\n",
       "      <th>3</th>\n",
       "      <td>4</td>\n",
       "      <td>4.6</td>\n",
       "      <td>3.1</td>\n",
       "      <td>1.5</td>\n",
       "      <td>0.2</td>\n",
       "      <td>Iris-setosa</td>\n",
       "    </tr>\n",
       "    <tr>\n",
       "      <th>4</th>\n",
       "      <td>5</td>\n",
       "      <td>5.0</td>\n",
       "      <td>3.6</td>\n",
       "      <td>1.4</td>\n",
       "      <td>0.2</td>\n",
       "      <td>Iris-setosa</td>\n",
       "    </tr>\n",
       "  </tbody>\n",
       "</table>\n",
       "</div>"
      ],
      "text/plain": [
       "   Id  SepalLengthCm  SepalWidthCm  PetalLengthCm  PetalWidthCm      Species\n",
       "0   1            5.1           3.5            1.4           0.2  Iris-setosa\n",
       "1   2            4.9           3.0            1.4           0.2  Iris-setosa\n",
       "2   3            4.7           3.2            1.3           0.2  Iris-setosa\n",
       "3   4            4.6           3.1            1.5           0.2  Iris-setosa\n",
       "4   5            5.0           3.6            1.4           0.2  Iris-setosa"
      ]
     },
     "execution_count": 24,
     "metadata": {},
     "output_type": "execute_result"
    }
   ],
   "source": [
    "df=pd.read_csv(\"Iris.csv\")\n",
    "df.head()"
   ]
  },
  {
   "cell_type": "code",
   "execution_count": 25,
   "id": "13700872",
   "metadata": {},
   "outputs": [
    {
     "data": {
      "text/plain": [
       "(150, 6)"
      ]
     },
     "execution_count": 25,
     "metadata": {},
     "output_type": "execute_result"
    }
   ],
   "source": [
    "df.shape"
   ]
  },
  {
   "cell_type": "code",
   "execution_count": 26,
   "id": "bee84d31",
   "metadata": {},
   "outputs": [
    {
     "name": "stdout",
     "output_type": "stream",
     "text": [
      "Id               0\n",
      "SepalLengthCm    0\n",
      "SepalWidthCm     0\n",
      "PetalLengthCm    0\n",
      "PetalWidthCm     0\n",
      "Species          0\n",
      "dtype: int64\n"
     ]
    }
   ],
   "source": [
    "print(df.isnull().sum())"
   ]
  },
  {
   "cell_type": "code",
   "execution_count": 27,
   "id": "5c4fb940",
   "metadata": {},
   "outputs": [],
   "source": [
    "num_col=df.select_dtypes(include=['number']).columns\n",
    "for i in num_col:\n",
    "    mean=df[i].mean()\n",
    "    df[i]=(df[i]>mean).astype(int)        "
   ]
  },
  {
   "cell_type": "code",
   "execution_count": 28,
   "id": "854dc248",
   "metadata": {},
   "outputs": [
    {
     "name": "stdout",
     "output_type": "stream",
     "text": [
      "     Id  SepalLengthCm  SepalWidthCm  PetalLengthCm  PetalWidthCm  \\\n",
      "0     0              0             1              0             0   \n",
      "1     0              0             0              0             0   \n",
      "2     0              0             1              0             0   \n",
      "3     0              0             1              0             0   \n",
      "4     0              0             1              0             0   \n",
      "..   ..            ...           ...            ...           ...   \n",
      "145   1              1             0              1             1   \n",
      "146   1              1             0              1             1   \n",
      "147   1              1             0              1             1   \n",
      "148   1              1             1              1             1   \n",
      "149   1              1             0              1             1   \n",
      "\n",
      "            Species  \n",
      "0       Iris-setosa  \n",
      "1       Iris-setosa  \n",
      "2       Iris-setosa  \n",
      "3       Iris-setosa  \n",
      "4       Iris-setosa  \n",
      "..              ...  \n",
      "145  Iris-virginica  \n",
      "146  Iris-virginica  \n",
      "147  Iris-virginica  \n",
      "148  Iris-virginica  \n",
      "149  Iris-virginica  \n",
      "\n",
      "[150 rows x 6 columns]\n"
     ]
    }
   ],
   "source": [
    "print(df)"
   ]
  },
  {
   "cell_type": "code",
   "execution_count": 29,
   "id": "d738b7da",
   "metadata": {},
   "outputs": [
    {
     "name": "stdout",
     "output_type": "stream",
     "text": [
      "     Id  SepalLengthCm  SepalWidthCm  PetalLengthCm  PetalWidthCm\n",
      "0     0              0             1              0             0\n",
      "1     0              0             0              0             0\n",
      "2     0              0             1              0             0\n",
      "3     0              0             1              0             0\n",
      "4     0              0             1              0             0\n",
      "..   ..            ...           ...            ...           ...\n",
      "145   1              1             0              1             1\n",
      "146   1              1             0              1             1\n",
      "147   1              1             0              1             1\n",
      "148   1              1             1              1             1\n",
      "149   1              1             0              1             1\n",
      "\n",
      "[150 rows x 5 columns]\n"
     ]
    }
   ],
   "source": [
    "X=df.drop(['Species'],axis=1)\n",
    "Y=df['Species']\n",
    "print(X)"
   ]
  },
  {
   "cell_type": "code",
   "execution_count": 30,
   "id": "175edd2e",
   "metadata": {},
   "outputs": [],
   "source": [
    "X_train,X_test,Y_train,Y_test=train_test_split(X,Y,test_size=0.2,random_state=42)\n",
    "train_data, test_data = train_test_split(df, test_size=0.2, random_state=42)"
   ]
  },
  {
   "cell_type": "code",
   "execution_count": 31,
   "id": "493cd8fb",
   "metadata": {},
   "outputs": [
    {
     "name": "stdout",
     "output_type": "stream",
     "text": [
      "     Id  SepalLengthCm  SepalWidthCm  PetalLengthCm  PetalWidthCm\n",
      "22    0              0             1              0             0\n",
      "15    0              0             1              0             0\n",
      "65    0              1             1              1             1\n",
      "11    0              0             1              0             0\n",
      "42    0              0             1              0             0\n",
      "..   ..            ...           ...            ...           ...\n",
      "71    0              1             0              1             1\n",
      "106   1              0             0              1             1\n",
      "14    0              0             1              0             0\n",
      "92    1              0             0              1             1\n",
      "102   1              1             0              1             1\n",
      "\n",
      "[120 rows x 5 columns]\n"
     ]
    }
   ],
   "source": [
    "print(X_train)\n"
   ]
  },
  {
   "cell_type": "code",
   "execution_count": 32,
   "id": "99749bbd",
   "metadata": {},
   "outputs": [],
   "source": [
    "def entropy(data, target_attr):\n",
    "    values = [row[target_attr] for row in data]\n",
    "    counts = Counter(values)\n",
    "    total = len(values)\n",
    "    return -sum((count / total) * math.log2(count / total) for count in counts.values())"
   ]
  },
  {
   "cell_type": "code",
   "execution_count": 33,
   "id": "3052a27e",
   "metadata": {},
   "outputs": [],
   "source": [
    "def information_gain(data, target_attr, attr):\n",
    "    total_entropy = entropy(data, target_attr)\n",
    "    values = set(row[attr] for row in data)\n",
    "    subset_entropy = 0\n",
    "\n",
    "    for value in values:\n",
    "        subset = [row for row in data if row[attr] == value]\n",
    "        weight = len(subset) / len(data)\n",
    "        subset_entropy += weight * entropy(subset, target_attr)\n",
    "\n",
    "    return total_entropy - subset_entropy"
   ]
  },
  {
   "cell_type": "code",
   "execution_count": 34,
   "id": "89d73178",
   "metadata": {},
   "outputs": [],
   "source": [
    "def build_decision_tree(data, target_attr, attributes):\n",
    "    target_values = [row[target_attr] for row in data]\n",
    "    if len(set(target_values)) == 1:\n",
    "        return target_values[0]\n",
    "    if not attributes:\n",
    "        return Counter(target_values).most_common(1)[0][0]\n",
    "\n",
    "    \n",
    "    best_attr = max(attributes, key=lambda attr: information_gain(data, target_attr, attr))\n",
    "    tree = {best_attr: {}}\n",
    "\n",
    "    for value in set(row[best_attr] for row in data):\n",
    "        subset = [row for row in data if row[best_attr] == value]\n",
    "        if not subset:\n",
    "            tree[best_attr][value] = Counter(target_values).most_common(1)[0][0]\n",
    "        else:\n",
    "            remaining_attrs = [attr for attr in attributes if attr != best_attr]\n",
    "            tree[best_attr][value] = build_decision_tree(subset, target_attr, remaining_attrs)\n",
    "\n",
    "    return tree"
   ]
  },
  {
   "cell_type": "code",
   "execution_count": 35,
   "id": "c6d09348",
   "metadata": {},
   "outputs": [],
   "source": [
    "def predict(tree, instance):\n",
    "    if not isinstance(tree, dict):\n",
    "        return tree\n",
    "    attribute = next(iter(tree))\n",
    "    value = instance.get(attribute)\n",
    "    subtree = tree.get(attribute, {}).get(value, None)\n",
    "    if subtree is None:\n",
    "        return None  \n",
    "    return predict(subtree, instance)"
   ]
  },
  {
   "cell_type": "code",
   "execution_count": 36,
   "id": "bff11b13",
   "metadata": {},
   "outputs": [],
   "source": [
    "def calculate_accuracy(tree, test_data, target_attr):\n",
    "    correct_predictions = sum(\n",
    "        1 for instance in test_data if predict(tree, instance) == instance[target_attr]\n",
    "    )\n",
    "    return correct_predictions / len(test_data)"
   ]
  },
  {
   "cell_type": "code",
   "execution_count": 37,
   "id": "3e733b0d",
   "metadata": {},
   "outputs": [],
   "source": [
    "train_data = train_data.to_dict(orient=\"records\")\n",
    "test_data = test_data.to_dict(orient=\"records\")"
   ]
  },
  {
   "cell_type": "code",
   "execution_count": 38,
   "id": "299f32b0",
   "metadata": {},
   "outputs": [],
   "source": [
    "attributes = [\"SepalLengthCm\", \"SepalWidthCm\", \"PetalLengthCm\", \"PetalWidthCm\"]\n",
    "target = 'Species'"
   ]
  },
  {
   "cell_type": "code",
   "execution_count": 39,
   "id": "9a670fd4",
   "metadata": {},
   "outputs": [],
   "source": [
    "decision_tree = build_decision_tree(train_data, target, attributes)"
   ]
  },
  {
   "cell_type": "code",
   "execution_count": 40,
   "id": "84cfc1f4",
   "metadata": {},
   "outputs": [
    {
     "name": "stdout",
     "output_type": "stream",
     "text": [
      "Decision Tree: {'PetalLengthCm': {0: {'SepalWidthCm': {0: {'SepalLengthCm': {0: {'PetalWidthCm': {0: 'Iris-versicolor'}}}}, 1: 'Iris-setosa'}}, 1: {'SepalLengthCm': {0: {'PetalWidthCm': {0: 'Iris-versicolor', 1: {'SepalWidthCm': {0: 'Iris-versicolor'}}}}, 1: {'PetalWidthCm': {0: 'Iris-versicolor', 1: {'SepalWidthCm': {0: 'Iris-virginica', 1: 'Iris-virginica'}}}}}}}}\n"
     ]
    }
   ],
   "source": [
    "print(\"Decision Tree:\", decision_tree)"
   ]
  },
  {
   "cell_type": "code",
   "execution_count": 41,
   "id": "d4b907b8",
   "metadata": {},
   "outputs": [
    {
     "name": "stdout",
     "output_type": "stream",
     "text": [
      "Accuracy on test data: 73.33%\n"
     ]
    }
   ],
   "source": [
    "accuracy = calculate_accuracy(decision_tree, test_data, target)\n",
    "print(f\"Accuracy on test data: {accuracy * 100:.2f}%\")"
   ]
  }
 ],
 "metadata": {
  "kernelspec": {
   "display_name": "Python 3 (ipykernel)",
   "language": "python",
   "name": "python3"
  },
  "language_info": {
   "codemirror_mode": {
    "name": "ipython",
    "version": 3
   },
   "file_extension": ".py",
   "mimetype": "text/x-python",
   "name": "python",
   "nbconvert_exporter": "python",
   "pygments_lexer": "ipython3",
   "version": "3.10.9"
  }
 },
 "nbformat": 4,
 "nbformat_minor": 5
}
