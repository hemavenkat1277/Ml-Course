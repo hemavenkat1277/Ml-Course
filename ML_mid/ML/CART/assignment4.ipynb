{
 "cells": [
  {
   "cell_type": "code",
   "execution_count": 96,
   "id": "f7667063",
   "metadata": {},
   "outputs": [],
   "source": [
    "import numpy as np\n",
    "import pandas as pd\n",
    "import matplotlib as plt"
   ]
  },
  {
   "cell_type": "code",
   "execution_count": 97,
   "id": "24f816e6",
   "metadata": {},
   "outputs": [
    {
     "name": "stderr",
     "output_type": "stream",
     "text": [
      "C:\\Users\\bt3222\\AppData\\Local\\Temp\\ipykernel_6888\\1350022555.py:3: FutureWarning: The default value of numeric_only in DataFrame.mean is deprecated. In a future version, it will default to False. In addition, specifying 'numeric_only=None' is deprecated. Select only valid columns or specify the value of numeric_only to silence this warning.\n",
      "  df.fillna(df.mean(),inplace=True)\n"
     ]
    }
   ],
   "source": [
    "df=pd.read_csv('Iris.csv')\n",
    "#normalisation\n",
    "df.fillna(df.mean(),inplace=True)"
   ]
  },
  {
   "cell_type": "code",
   "execution_count": 98,
   "id": "c4f1f6a0",
   "metadata": {},
   "outputs": [],
   "source": [
    "df['Species']=df['Species'].map({'Iris-setosa':0,'Iris-versicolor':1,'Iris-virginica':2}).astype('int64')\n",
    "\n",
    "from sklearn.model_selection import train_test_split\n",
    "x1_train,x1_test,y1_train,y1_test=train_test_split(df.iloc[:,1:4],df.iloc[:,5],test_size=0.2,random_state=0)"
   ]
  },
  {
   "cell_type": "code",
   "execution_count": 99,
   "id": "796fd1ab",
   "metadata": {},
   "outputs": [],
   "source": [
    "def entropy(y):\n",
    "    proportions = np.bincount(y) / len(y)\n",
    "    return -np.sum([p * np.log2(p) for p in proportions if p > 0])\n",
    "\n",
    "def information_gain(X_column, y, threshold):\n",
    "    left_mask = X_column <= threshold\n",
    "    right_mask =X_column>threshold\n",
    "\n",
    "    if len(y[left_mask]) == 0 or len(y[right_mask]) == 0:\n",
    "        return 0\n",
    "\n",
    "    parent_entropy = entropy(y)\n",
    "    n = len(y)\n",
    "    n_left, n_right = len(y[left_mask]), len(y[right_mask])\n",
    "\n",
    "    e_left = entropy(y[left_mask])\n",
    "    e_right = entropy(y[right_mask])\n",
    "\n",
    "    child_entropy = (n_left / n) * e_left + (n_right / n) * e_right\n",
    "    return parent_entropy - child_entropy\n",
    "\n",
    "def best_split(X, y):\n",
    "    best_gain = -1\n",
    "    best_feature, best_threshold = None, None\n",
    "\n",
    "    for feature_idx in range(X.shape[1]):\n",
    "        thresholds = np.unique(X.iloc[:, feature_idx].values)\n",
    "        for threshold in thresholds:\n",
    "            gain = information_gain(X.iloc[:, feature_idx].values, y, threshold)\n",
    "\n",
    "            if gain > best_gain:\n",
    "                best_gain = gain\n",
    "                best_feature = feature_idx\n",
    "                best_threshold = threshold\n",
    "\n",
    "    return best_feature, best_threshold\n",
    "\n",
    "def build_tree(X, y, depth=0, max_depth=None):\n",
    "    if len(np.unique(y)) == 1 or (max_depth is not None and depth >= max_depth):\n",
    "        return np.bincount(y).argmax()\n",
    "\n",
    "    feature, threshold = best_split(X, y)\n",
    "    if feature is None:\n",
    "        return Counter(y).most_common(1)[0][0]\n",
    "\n",
    "    left_mask = X.iloc[:, feature].values <= threshold\n",
    "    right_mask = X.iloc[:, feature].values > threshold\n",
    "\n",
    "    left_subtree = build_tree(X[left_mask], y[left_mask], depth + 1, max_depth)\n",
    "    right_subtree = build_tree(X[right_mask], y[right_mask], depth + 1, max_depth)\n",
    "\n",
    "    return {\"feature\": feature, \"threshold\": threshold, \"left\": left_subtree, \"right\": right_subtree}\n",
    "\n",
    "def predict_sample(x, tree):\n",
    "    if not isinstance(tree, dict):\n",
    "        return tree\n",
    "    feature, threshold = tree[\"feature\"], tree[\"threshold\"]\n",
    "    feature_value = x[feature]\n",
    "    if feature_value <= threshold:\n",
    "        return predict_sample(x, tree[\"left\"])\n",
    "    else:\n",
    "        return predict_sample(x, tree[\"right\"])\n",
    "    \n",
    "def predict(x,tree):\n",
    "    return np.array([predict_sample(inp,tree) for inp in x.values])"
   ]
  },
  {
   "cell_type": "code",
   "execution_count": 100,
   "id": "b8eb17db",
   "metadata": {},
   "outputs": [],
   "source": [
    "tree=build_tree(x1_train,y1_train,0,4)"
   ]
  },
  {
   "cell_type": "code",
   "execution_count": 101,
   "id": "99f2c5a7",
   "metadata": {
    "scrolled": false
   },
   "outputs": [
    {
     "data": {
      "text/plain": [
       "{'feature': 2,\n",
       " 'threshold': 1.7,\n",
       " 'left': 0,\n",
       " 'right': {'feature': 2,\n",
       "  'threshold': 4.7,\n",
       "  'left': {'feature': 0,\n",
       "   'threshold': 4.9,\n",
       "   'left': {'feature': 1, 'threshold': 2.4, 'left': 1, 'right': 2},\n",
       "   'right': 1},\n",
       "  'right': {'feature': 2,\n",
       "   'threshold': 5.1,\n",
       "   'left': {'feature': 0, 'threshold': 5.8, 'left': 2, 'right': 2},\n",
       "   'right': 2}}}"
      ]
     },
     "execution_count": 101,
     "metadata": {},
     "output_type": "execute_result"
    }
   ],
   "source": [
    "tree"
   ]
  },
  {
   "cell_type": "code",
   "execution_count": 102,
   "id": "a9f2a976",
   "metadata": {},
   "outputs": [
    {
     "data": {
      "text/plain": [
       "array([2, 1, 0, 2, 0, 2, 0, 1, 2, 1, 2, 1, 1, 1, 1, 0, 1, 1, 0, 0, 2, 1,\n",
       "       2, 0, 2, 0, 1, 1, 1, 0], dtype=int64)"
      ]
     },
     "execution_count": 102,
     "metadata": {},
     "output_type": "execute_result"
    }
   ],
   "source": [
    "p=predict(x1_test,tree)\n",
    "p\n"
   ]
  },
  {
   "cell_type": "code",
   "execution_count": 103,
   "id": "bd81c968",
   "metadata": {},
   "outputs": [
    {
     "data": {
      "text/plain": [
       "5.5"
      ]
     },
     "execution_count": 103,
     "metadata": {},
     "output_type": "execute_result"
    }
   ],
   "source": [
    "x1_test.iloc[2][0]"
   ]
  },
  {
   "cell_type": "code",
   "execution_count": 104,
   "id": "39b96515",
   "metadata": {},
   "outputs": [
    {
     "data": {
      "text/plain": [
       "pandas.core.frame.DataFrame"
      ]
     },
     "execution_count": 104,
     "metadata": {},
     "output_type": "execute_result"
    }
   ],
   "source": [
    "type(x1_test)"
   ]
  },
  {
   "cell_type": "code",
   "execution_count": 105,
   "id": "3184efb9",
   "metadata": {},
   "outputs": [
    {
     "name": "stdout",
     "output_type": "stream",
     "text": [
      "accuracy: 90.0\n"
     ]
    }
   ],
   "source": [
    "val=0\n",
    "for i in range(len(p)):\n",
    "    if (p[i]==y1_test.iloc[i]):\n",
    "        val+=1\n",
    "print(f\"accuracy: {val/len(y1_test)*100}\")"
   ]
  }
 ],
 "metadata": {
  "kernelspec": {
   "display_name": "Python 3 (ipykernel)",
   "language": "python",
   "name": "python3"
  },
  "language_info": {
   "codemirror_mode": {
    "name": "ipython",
    "version": 3
   },
   "file_extension": ".py",
   "mimetype": "text/x-python",
   "name": "python",
   "nbconvert_exporter": "python",
   "pygments_lexer": "ipython3",
   "version": "3.10.9"
  }
 },
 "nbformat": 4,
 "nbformat_minor": 5
}
