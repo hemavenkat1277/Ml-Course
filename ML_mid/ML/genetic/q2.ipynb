{
 "cells": [
  {
   "cell_type": "code",
   "execution_count": 1,
   "metadata": {},
   "outputs": [],
   "source": [
    "import random\n",
    "\n",
    "pop_size = 10\n",
    "gens = 100\n",
    "mutation_rate = 0.1\n",
    "x_range = (-10, 10)\n",
    "bit_length = 10  "
   ]
  },
  {
   "cell_type": "code",
   "execution_count": 2,
   "metadata": {},
   "outputs": [],
   "source": [
    "def dec_to_bin(x):\n",
    "    x_scaled = int(((x - x_range[0]) / (x_range[1] - x_range[0])) * (2**bit_length - 1))\n",
    "    return format(x_scaled, f'0{bit_length}b')\n",
    "\n",
    "def bin_to_dec(b):\n",
    "    x_scaled = int(b, 2)\n",
    "    return x_range[0] + (x_scaled / (2**bit_length - 1)) * (x_range[1] - x_range[0])\n"
   ]
  },
  {
   "cell_type": "code",
   "execution_count": 3,
   "metadata": {},
   "outputs": [],
   "source": [
    "def func(x):\n",
    "    return x**2 + 3*x + 5\n",
    "\n",
    "def fit(x):\n",
    "    return 1 / (func(x))"
   ]
  },
  {
   "cell_type": "code",
   "execution_count": 10,
   "metadata": {},
   "outputs": [
    {
     "data": {
      "text/plain": [
       "['1000100101',\n",
       " '1011111101',\n",
       " '1101101110',\n",
       " '0011111100',\n",
       " '0100111000',\n",
       " '1001011101',\n",
       " '0000100001',\n",
       " '0101001000',\n",
       " '0011000011',\n",
       " '0001110101']"
      ]
     },
     "execution_count": 10,
     "metadata": {},
     "output_type": "execute_result"
    }
   ],
   "source": [
    "def gen_pop():\n",
    "    return [dec_to_bin(random.uniform(*x_range)) for _ in range(pop_size)]\n",
    "pop = gen_pop()\n",
    "pop"
   ]
  },
  {
   "cell_type": "code",
   "execution_count": 5,
   "metadata": {},
   "outputs": [],
   "source": [
    "def roulette_selection(pop):\n",
    "    total_fit = sum(fit(bin_to_dec(ch)) for ch in pop) \n",
    "    pick = random.uniform(0, total_fit) \n",
    "    current = 0\n",
    "    for ch in pop:\n",
    "        current += fit(bin_to_dec(ch))  \n",
    "        if current >= pick:  \n",
    "            return ch "
   ]
  },
  {
   "cell_type": "code",
   "execution_count": 6,
   "metadata": {},
   "outputs": [],
   "source": [
    "def cross(p1, p2):\n",
    "    return ''.join(p1[i] if random.random() < 0.5 else p2[i] for i in range(bit_length))"
   ]
  },
  {
   "cell_type": "code",
   "execution_count": 7,
   "metadata": {},
   "outputs": [],
   "source": [
    "def mutate(parent):\n",
    "    if random.random() < mutation_rate:\n",
    "        i = random.randint(0, bit_length - 1)\n",
    "        parent = parent[:i] + ('0' if parent[i] == '1' else '1') + parent[i+1:]\n",
    "    return parent"
   ]
  },
  {
   "cell_type": "code",
   "execution_count": 8,
   "metadata": {},
   "outputs": [
    {
     "name": "stdout",
     "output_type": "stream",
     "text": [
      "gen 1: best x = -1.9257086999022484, f(x) = 2.9312278971724623\n",
      "gen 2: best x = -0.830889540566961, f(x) = 3.1977088069226927\n",
      "gen 3: best x = -0.9677419354838719, f(x) = 3.0332986472424546\n",
      "gen 4: best x = -2.2189638318670575, f(x) = 3.2669089915329623\n",
      "gen 5: best x = -1.0068426197458464, f(x) = 2.9932042016991396\n",
      "gen 6: best x = -1.0068426197458464, f(x) = 2.9932042016991396\n",
      "gen 7: best x = -1.0068426197458464, f(x) = 2.9932042016991396\n",
      "gen 8: best x = -1.0068426197458464, f(x) = 2.9932042016991396\n",
      "gen 9: best x = -1.0263929618768337, f(x) = 2.974303626559798\n",
      "gen 10: best x = -1.045943304007821, f(x) = 2.956167483175334\n",
      "gen 11: best x = -1.0068426197458464, f(x) = 2.9932042016991396\n",
      "gen 12: best x = -1.0068426197458464, f(x) = 2.9932042016991396\n",
      "gen 13: best x = -1.0068426197458464, f(x) = 2.9932042016991396\n",
      "gen 14: best x = -1.045943304007821, f(x) = 2.956167483175334\n",
      "gen 15: best x = -1.0850439882697955, f(x) = 2.9221884916710374\n",
      "gen 16: best x = -1.0850439882697955, f(x) = 2.9221884916710374\n",
      "gen 17: best x = -1.0850439882697955, f(x) = 2.9221884916710374\n",
      "gen 18: best x = -1.0850439882697955, f(x) = 2.9221884916710374\n",
      "gen 19: best x = -1.0850439882697955, f(x) = 2.9221884916710374\n",
      "gen 20: best x = -1.0850439882697955, f(x) = 2.9221884916710374\n",
      "gen 21: best x = -1.0850439882697955, f(x) = 2.9221884916710374\n",
      "gen 22: best x = -1.0850439882697955, f(x) = 2.9221884916710374\n",
      "gen 23: best x = -1.6324535679374392, f(x) = 2.767543947659358\n",
      "gen 24: best x = -1.0068426197458464, f(x) = 2.9932042016991396\n",
      "gen 25: best x = -1.0850439882697955, f(x) = 2.9221884916710374\n",
      "gen 26: best x = -1.2414467253176937, f(x) = 2.816849795848944\n",
      "gen 27: best x = -1.2414467253176937, f(x) = 2.816849795848944\n",
      "gen 28: best x = -1.0850439882697955, f(x) = 2.9221884916710374\n",
      "gen 29: best x = -1.0850439882697955, f(x) = 2.9221884916710374\n",
      "gen 30: best x = -1.0068426197458464, f(x) = 2.9932042016991396\n",
      "gen 31: best x = -1.0068426197458464, f(x) = 2.9932042016991396\n",
      "gen 32: best x = -1.0068426197458464, f(x) = 2.9932042016991396\n",
      "gen 33: best x = -1.0068426197458464, f(x) = 2.9932042016991396\n",
      "gen 34: best x = -1.0068426197458464, f(x) = 2.9932042016991396\n",
      "gen 35: best x = -1.0068426197458464, f(x) = 2.9932042016991396\n",
      "gen 36: best x = -1.0068426197458464, f(x) = 2.9932042016991396\n",
      "gen 37: best x = -1.1632453567937446, f(x) = 2.8634036897209723\n",
      "gen 38: best x = -1.0068426197458464, f(x) = 2.9932042016991396\n",
      "gen 39: best x = -1.0068426197458464, f(x) = 2.9932042016991396\n",
      "gen 40: best x = -1.0068426197458464, f(x) = 2.9932042016991396\n",
      "gen 41: best x = -1.0068426197458464, f(x) = 2.9932042016991396\n",
      "gen 42: best x = -1.0068426197458464, f(x) = 2.9932042016991396\n",
      "gen 43: best x = -0.9677419354838719, f(x) = 3.0332986472424546\n",
      "gen 44: best x = -1.0068426197458464, f(x) = 2.9932042016991396\n",
      "gen 45: best x = -1.0068426197458464, f(x) = 2.9932042016991396\n",
      "gen 46: best x = -1.0068426197458464, f(x) = 2.9932042016991396\n",
      "gen 47: best x = -1.0068426197458464, f(x) = 2.9932042016991396\n",
      "gen 48: best x = -1.0068426197458464, f(x) = 2.9932042016991396\n",
      "gen 49: best x = -1.0068426197458464, f(x) = 2.9932042016991396\n",
      "gen 50: best x = -1.0068426197458464, f(x) = 2.9932042016991396\n",
      "gen 51: best x = -1.0068426197458464, f(x) = 2.9932042016991396\n",
      "gen 52: best x = -1.12414467253177, f(x) = 2.8912672271862503\n",
      "gen 53: best x = -1.0068426197458464, f(x) = 2.9932042016991396\n",
      "gen 54: best x = -1.0068426197458464, f(x) = 2.9932042016991396\n",
      "gen 55: best x = -1.0068426197458464, f(x) = 2.9932042016991396\n",
      "gen 56: best x = -1.0068426197458464, f(x) = 2.9932042016991396\n",
      "gen 57: best x = -1.0068426197458464, f(x) = 2.9932042016991396\n",
      "gen 58: best x = -1.0068426197458464, f(x) = 2.9932042016991396\n",
      "gen 59: best x = -1.0068426197458464, f(x) = 2.9932042016991396\n",
      "gen 60: best x = -1.0068426197458464, f(x) = 2.9932042016991396\n",
      "gen 61: best x = -1.0068426197458464, f(x) = 2.9932042016991396\n",
      "gen 62: best x = -1.0068426197458464, f(x) = 2.9932042016991396\n",
      "gen 63: best x = -1.0068426197458464, f(x) = 2.9932042016991396\n",
      "gen 64: best x = -1.0068426197458464, f(x) = 2.9932042016991396\n",
      "gen 65: best x = -1.0850439882697955, f(x) = 2.9221884916710374\n",
      "gen 66: best x = -1.0068426197458464, f(x) = 2.9932042016991396\n",
      "gen 67: best x = -1.0068426197458464, f(x) = 2.9932042016991396\n",
      "gen 68: best x = -0.9677419354838719, f(x) = 3.0332986472424546\n",
      "gen 69: best x = -1.0068426197458464, f(x) = 2.9932042016991396\n",
      "gen 70: best x = -1.12414467253177, f(x) = 2.8912672271862503\n",
      "gen 71: best x = -0.9677419354838719, f(x) = 3.0332986472424546\n",
      "gen 72: best x = -0.8113391984359737, f(x) = 3.224253699610807\n",
      "gen 73: best x = -0.6549364613880755, f(x) = 3.4641323842913074\n",
      "gen 74: best x = -0.6549364613880755, f(x) = 3.4641323842913074\n",
      "gen 75: best x = -0.6549364613880755, f(x) = 3.4641323842913074\n",
      "gen 76: best x = -0.6549364613880755, f(x) = 3.4641323842913074\n",
      "gen 77: best x = -0.6549364613880755, f(x) = 3.4641323842913074\n",
      "gen 78: best x = -0.6549364613880755, f(x) = 3.4641323842913074\n",
      "gen 79: best x = -0.7331378299120246, f(x) = 3.338077587912039\n",
      "gen 80: best x = -0.7331378299120246, f(x) = 3.338077587912039\n",
      "gen 81: best x = -0.7331378299120246, f(x) = 3.338077587912039\n",
      "gen 82: best x = -0.7331378299120246, f(x) = 3.338077587912039\n",
      "gen 83: best x = -0.7331378299120246, f(x) = 3.338077587912039\n",
      "gen 84: best x = -0.7331378299120246, f(x) = 3.338077587912039\n",
      "gen 85: best x = -0.9677419354838719, f(x) = 3.0332986472424546\n",
      "gen 86: best x = -0.7331378299120246, f(x) = 3.338077587912039\n",
      "gen 87: best x = -0.7331378299120246, f(x) = 3.338077587912039\n",
      "gen 88: best x = -0.7331378299120246, f(x) = 3.338077587912039\n",
      "gen 89: best x = -0.9677419354838719, f(x) = 3.0332986472424546\n",
      "gen 90: best x = -0.9677419354838719, f(x) = 3.0332986472424546\n",
      "gen 91: best x = -0.9677419354838719, f(x) = 3.0332986472424546\n",
      "gen 92: best x = -0.9677419354838719, f(x) = 3.0332986472424546\n",
      "gen 93: best x = -0.9677419354838719, f(x) = 3.0332986472424546\n",
      "gen 94: best x = -0.9677419354838719, f(x) = 3.0332986472424546\n",
      "gen 95: best x = -0.9677419354838719, f(x) = 3.0332986472424546\n",
      "gen 96: best x = -0.7331378299120246, f(x) = 3.338077587912039\n",
      "gen 97: best x = -0.6549364613880755, f(x) = 3.4641323842913074\n",
      "gen 98: best x = -0.6549364613880755, f(x) = 3.4641323842913074\n",
      "gen 99: best x = -0.9677419354838719, f(x) = 3.0332986472424546\n",
      "gen 100: best x = -0.9677419354838719, f(x) = 3.0332986472424546\n",
      "best x found: -0.9677419354838719, f(x) = 3.0332986472424546\n"
     ]
    }
   ],
   "source": [
    "pop = gen_pop()\n",
    "\n",
    "for g in range(gens):\n",
    "    new_pop = []\n",
    "    for _ in range(pop_size):\n",
    "        p1 = roulette_selection(pop)\n",
    "        p2 = roulette_selection(pop)\n",
    "        child = mutate(cross(p1, p2))\n",
    "        new_pop.append(child)\n",
    "    pop = new_pop\n",
    "    best = min(pop, key=lambda ch: func(bin_to_dec(ch)))\n",
    "    print(f\"gen {g+1}: best x = {bin_to_dec(best)}, f(x) = {func(bin_to_dec(best))}\")\n",
    "\n",
    "best_x = bin_to_dec(best)\n",
    "print(f\"best x found: {best_x}, f(x) = {func(best_x)}\")"
   ]
  }
 ],
 "metadata": {
  "kernelspec": {
   "display_name": "Python 3",
   "language": "python",
   "name": "python3"
  },
  "language_info": {
   "codemirror_mode": {
    "name": "ipython",
    "version": 3
   },
   "file_extension": ".py",
   "mimetype": "text/x-python",
   "name": "python",
   "nbconvert_exporter": "python",
   "pygments_lexer": "ipython3",
   "version": "3.13.1"
  }
 },
 "nbformat": 4,
 "nbformat_minor": 2
}
