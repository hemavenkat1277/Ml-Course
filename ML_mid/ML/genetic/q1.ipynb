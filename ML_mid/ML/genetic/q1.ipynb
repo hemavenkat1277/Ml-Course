{
 "cells": [
  {
   "cell_type": "markdown",
   "metadata": {},
   "source": [
    "Initial fitness"
   ]
  },
  {
   "cell_type": "code",
   "execution_count": 653,
   "metadata": {},
   "outputs": [
    {
     "data": {
      "text/plain": [
       "[[0, 1, 0, 0, 0, 0, 0, 1, 0, 1],\n",
       " [1, 0, 0, 1, 0, 1, 0, 0, 0, 0],\n",
       " [0, 0, 1, 1, 0, 0, 1, 0, 1, 1],\n",
       " [1, 1, 1, 1, 1, 1, 0, 0, 1, 1],\n",
       " [0, 1, 1, 0, 1, 1, 0, 0, 1, 1],\n",
       " [0, 0, 1, 0, 0, 0, 0, 0, 1, 1]]"
      ]
     },
     "execution_count": 653,
     "metadata": {},
     "output_type": "execute_result"
    }
   ],
   "source": [
    "import random\n",
    "import numpy as np \n",
    "num=random.randint(0,1)\n",
    "\n",
    "## 0->T  1->H\n",
    "population = []\n",
    "for i in range(6):\n",
    "    population.append([random.randint(0,1) for i in range(10)])\n",
    "\n",
    "population"
   ]
  },
  {
   "cell_type": "code",
   "execution_count": 654,
   "metadata": {},
   "outputs": [],
   "source": [
    "def fitness(population):\n",
    "    return sum(population)"
   ]
  },
  {
   "cell_type": "code",
   "execution_count": 655,
   "metadata": {},
   "outputs": [
    {
     "data": {
      "text/plain": [
       "3"
      ]
     },
     "execution_count": 655,
     "metadata": {},
     "output_type": "execute_result"
    }
   ],
   "source": [
    "fitness(population[0])"
   ]
  },
  {
   "cell_type": "markdown",
   "metadata": {},
   "source": [
    "Roulette wheel selection"
   ]
  },
  {
   "cell_type": "code",
   "execution_count": 656,
   "metadata": {},
   "outputs": [],
   "source": [
    "def wheelselection(fitness_set):\n",
    "    total_fitness=sum(fitness_set)\n",
    "    rn= random.randint(1,total_fitness)\n",
    "    for i in range(len(fitness_set)):\n",
    "        rn-=fitness_set[i]\n",
    "        if rn<=0:\n",
    "            return i"
   ]
  },
  {
   "cell_type": "code",
   "execution_count": 657,
   "metadata": {},
   "outputs": [
    {
     "data": {
      "text/plain": [
       "2"
      ]
     },
     "execution_count": 657,
     "metadata": {},
     "output_type": "execute_result"
    }
   ],
   "source": [
    "fitness_values =[fitness(population[i]) for i in range (len(population))]\n",
    "wheelselection(fitness_values)"
   ]
  },
  {
   "cell_type": "markdown",
   "metadata": {},
   "source": [
    "Selecting parents"
   ]
  },
  {
   "cell_type": "code",
   "execution_count": 658,
   "metadata": {},
   "outputs": [
    {
     "data": {
      "text/plain": [
       "[4, 3]"
      ]
     },
     "execution_count": 658,
     "metadata": {},
     "output_type": "execute_result"
    }
   ],
   "source": [
    "parents =[wheelselection(fitness_values) for i in range(2)]\n",
    "parents"
   ]
  },
  {
   "cell_type": "markdown",
   "metadata": {},
   "source": [
    "CrossOver"
   ]
  },
  {
   "cell_type": "code",
   "execution_count": 659,
   "metadata": {},
   "outputs": [
    {
     "name": "stdout",
     "output_type": "stream",
     "text": [
      "Previous Parents: [0, 1, 0, 0, 0, 0, 0, 1, 0, 1] and [1, 0, 0, 1, 0, 1, 0, 0, 0, 0]\n",
      "After crossover: [[0, 1, 0, 0, 0, 1, 0, 0, 0, 1], [1, 0, 0, 1, 0, 0, 0, 1, 0, 0]]\n"
     ]
    }
   ],
   "source": [
    "def twoPointcrossover(parent1, parent2):\n",
    "    size = len(parent1)\n",
    "    x, y = sorted(random.sample(range(1, size), 2))  # Ensure x < y\n",
    "    newparents = [\n",
    "        parent1[:x] + parent2[x:y] + parent1[y:],  \n",
    "        parent2[:x] + parent1[x:y] + parent2[y:]\n",
    "    ]\n",
    "    return newparents\n",
    "\n",
    "print(f\"Previous Parents: {population[0]} and {population[1]}\")\n",
    "print(f\"After crossover: {twoPointcrossover(population[0],population[1])}\")"
   ]
  },
  {
   "cell_type": "code",
   "execution_count": 660,
   "metadata": {},
   "outputs": [],
   "source": [
    "def uniform_crossover(parent1, parent2):\n",
    "    size = len(parent1)\n",
    "    for i in range(size):\n",
    "        if random.random() < 0.5:\n",
    "            parent1[i], parent2[i] = parent2[i], parent1[i]\n",
    "        else:\n",
    "            pass\n",
    "    return [parent1,parent2]"
   ]
  },
  {
   "cell_type": "markdown",
   "metadata": {},
   "source": [
    "Mutation"
   ]
  },
  {
   "cell_type": "code",
   "execution_count": 661,
   "metadata": {},
   "outputs": [],
   "source": [
    "import random\n",
    "\n",
    "def swap_mutation(parent):\n",
    "    mutated_parent = parent[:] \n",
    "    x, y = random.sample(range(len(parent)), 2)  # Ensure x ≠ y\n",
    "    mutated_parent[x], mutated_parent[y] = mutated_parent[y], mutated_parent[x]  # Swap\n",
    "    return mutated_parent\n"
   ]
  },
  {
   "cell_type": "code",
   "execution_count": 662,
   "metadata": {},
   "outputs": [
    {
     "name": "stdout",
     "output_type": "stream",
     "text": [
      "Generation 0: [[0, 1, 0, 0, 0, 0, 0, 1, 0, 1], [1, 0, 0, 1, 0, 1, 0, 0, 0, 0], [0, 0, 1, 1, 0, 0, 1, 0, 1, 1], [0, 1, 1, 1, 0, 0, 0, 0, 1, 1], [0, 1, 1, 0, 1, 1, 0, 0, 1, 1], [1, 0, 1, 0, 1, 1, 0, 0, 1, 1]]\n",
      "Generation 1: [[0, 1, 0, 0, 0, 0, 0, 1, 0, 1], [0, 1, 1, 1, 0, 1, 0, 0, 0, 0], [0, 0, 1, 1, 0, 0, 1, 0, 1, 1], [1, 0, 0, 1, 0, 0, 0, 0, 1, 1], [0, 1, 1, 0, 1, 1, 0, 0, 1, 1], [1, 0, 1, 0, 1, 1, 0, 0, 1, 1]]\n",
      "Generation 2: [[0, 1, 0, 0, 0, 0, 0, 1, 0, 1], [1, 0, 1, 0, 0, 1, 0, 0, 0, 0], [0, 0, 1, 1, 0, 0, 1, 0, 1, 1], [1, 0, 0, 1, 0, 0, 0, 0, 1, 1], [0, 1, 1, 0, 1, 1, 0, 0, 1, 1], [0, 1, 1, 1, 1, 1, 0, 0, 1, 1]]\n",
      "Generation 3: [[0, 1, 1, 1, 1, 1, 0, 1, 0, 1], [1, 0, 1, 0, 0, 1, 0, 0, 0, 0], [0, 0, 1, 1, 0, 0, 1, 0, 1, 1], [1, 0, 0, 1, 0, 0, 0, 0, 1, 1], [0, 1, 1, 0, 1, 1, 0, 0, 1, 1], [0, 1, 0, 0, 0, 0, 0, 0, 1, 1]]\n",
      "Generation 4: [[0, 1, 1, 1, 1, 1, 0, 1, 0, 1], [1, 0, 1, 0, 0, 1, 0, 0, 0, 0], [0, 0, 0, 1, 0, 0, 1, 0, 1, 1], [1, 0, 1, 1, 0, 0, 0, 0, 1, 1], [0, 1, 1, 0, 1, 1, 0, 0, 1, 1], [0, 1, 0, 0, 0, 0, 0, 0, 1, 1]]\n",
      "Generation 5: [[0, 1, 0, 1, 0, 1, 0, 0, 0, 1], [1, 0, 1, 0, 0, 1, 0, 0, 0, 0], [0, 0, 0, 1, 0, 0, 1, 0, 1, 1], [1, 0, 1, 1, 0, 0, 0, 0, 1, 1], [0, 1, 1, 0, 1, 1, 0, 0, 1, 1], [0, 1, 1, 0, 1, 0, 0, 1, 1, 1]]\n",
      "Generation 6: [[0, 1, 0, 1, 0, 1, 0, 0, 0, 1], [1, 0, 1, 1, 0, 1, 0, 0, 1, 1], [0, 0, 0, 1, 0, 0, 1, 0, 1, 1], [1, 0, 1, 0, 0, 0, 0, 0, 0, 0], [0, 1, 1, 0, 1, 1, 0, 0, 1, 1], [0, 1, 1, 0, 1, 0, 0, 1, 1, 1]]\n",
      "Generation 7: [[0, 1, 0, 1, 1, 1, 0, 0, 1, 1], [1, 0, 1, 1, 0, 1, 0, 0, 1, 1], [0, 0, 0, 1, 0, 0, 1, 0, 1, 1], [1, 0, 1, 0, 0, 0, 0, 0, 0, 0], [0, 1, 1, 0, 0, 1, 0, 0, 0, 1], [0, 1, 1, 0, 1, 0, 0, 1, 1, 1]]\n",
      "Generation 8: [[0, 1, 0, 1, 1, 1, 0, 0, 1, 1], [1, 0, 1, 1, 0, 1, 0, 0, 1, 1], [0, 0, 0, 1, 1, 0, 0, 1, 1, 1], [1, 0, 1, 0, 0, 0, 0, 0, 0, 0], [0, 1, 1, 0, 0, 1, 0, 1, 0, 0], [0, 1, 1, 0, 0, 0, 1, 0, 1, 1]]\n",
      "Generation 9: [[0, 1, 0, 1, 1, 1, 0, 0, 1, 1], [0, 1, 1, 0, 0, 1, 0, 0, 1, 1], [0, 0, 0, 1, 0, 1, 0, 1, 1, 1], [1, 0, 1, 0, 0, 0, 0, 0, 0, 0], [0, 1, 1, 0, 0, 1, 0, 1, 0, 0], [1, 0, 1, 1, 0, 0, 1, 0, 1, 1]]\n",
      "Best fitness: 7\n"
     ]
    }
   ],
   "source": [
    "fmax = 0\n",
    "best_fit_parent = None\n",
    "\n",
    "for gen in range(10):  # Use 'gen' for generation count\n",
    "    fitness_values = [fitness(population[i]) for i in range(len(population))]  # Compute once\n",
    "\n",
    "    p1 = wheelselection(fitness_values)\n",
    "    p2 = wheelselection(fitness_values)\n",
    "    while p1 == p2:\n",
    "        p2 = wheelselection(fitness_values)\n",
    "\n",
    "    newparents = uniform_crossover(population[p1], population[p2])\n",
    "    population[p1], population[p2] = newparents  # Assign directly\n",
    "\n",
    "    for j in range(len(population)):  # Avoid overwriting 'i'\n",
    "        if random.uniform(0, 1) < 0.1:  # Exact 10% mutation probability\n",
    "            population[j] = swap_mutation(population[j])\n",
    "\n",
    "        current_fitness = fitness(population[j])\n",
    "        if current_fitness > fmax:\n",
    "            best_fit_parent = population[j]\n",
    "            fmax = current_fitness\n",
    "    print(f\"Generation {gen}: {population}\")\n",
    "\n",
    "print(f\"Best fitness: {fmax}\")\n"
   ]
  }
 ],
 "metadata": {
  "kernelspec": {
   "display_name": "base",
   "language": "python",
   "name": "python3"
  },
  "language_info": {
   "codemirror_mode": {
    "name": "ipython",
    "version": 3
   },
   "file_extension": ".py",
   "mimetype": "text/x-python",
   "name": "python",
   "nbconvert_exporter": "python",
   "pygments_lexer": "ipython3",
   "version": "3.10.9"
  }
 },
 "nbformat": 4,
 "nbformat_minor": 2
}
