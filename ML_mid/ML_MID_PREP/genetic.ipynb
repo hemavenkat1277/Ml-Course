{
 "cells": [
  {
   "cell_type": "code",
   "execution_count": 205,
   "metadata": {},
   "outputs": [],
   "source": [
    "import random\n",
    "import numpy as np\n",
    "x_range =[-10,10]\n",
    "iter=100\n",
    "mutation_rate=0.3\n",
    "population_size =10\n",
    "bitlength=10"
   ]
  },
  {
   "cell_type": "code",
   "execution_count": 206,
   "metadata": {},
   "outputs": [],
   "source": [
    "def fun(x):\n",
    "    return (x**2+3*x+5)\n",
    "def fit(x):\n",
    "    return 1/fun(x)"
   ]
  },
  {
   "cell_type": "code",
   "execution_count": 207,
   "metadata": {},
   "outputs": [],
   "source": [
    "def scale(old_min,old_max,new_min,new_max,x):\n",
    "    return ((new_max-new_min)*(x-old_min)/(old_max-old_min))\n",
    "def dec_to_binary(x):\n",
    "    k=int(scale(-10,10,0,2**bitlength -1,x))\n",
    "    return format(k,f'0{bitlength}b')\n",
    "def gen_pop():\n",
    "    return [dec_to_binary(random.uniform(-10,10)) for _ in range(population_size)]"
   ]
  },
  {
   "cell_type": "code",
   "execution_count": 208,
   "metadata": {},
   "outputs": [
    {
     "data": {
      "text/plain": [
       "['1010001010',\n",
       " '1101010010',\n",
       " '1100111111',\n",
       " '0110111111',\n",
       " '1110000000',\n",
       " '1101010000',\n",
       " '0011111100',\n",
       " '1011000011',\n",
       " '1011101101',\n",
       " '0100010100']"
      ]
     },
     "execution_count": 208,
     "metadata": {},
     "output_type": "execute_result"
    }
   ],
   "source": [
    "def binary_to_decimal(x):\n",
    "    a=int(x,2)\n",
    "    return scale(0,2**bitlength -1,-10,10,a)\n",
    "\n",
    "pop =gen_pop()\n",
    "pop"
   ]
  },
  {
   "cell_type": "code",
   "execution_count": 209,
   "metadata": {},
   "outputs": [],
   "source": [
    "def roulette_selection(pop):\n",
    "    total_fit = sum(fit(binary_to_decimal(ch))for ch in pop)\n",
    "    pick = random.uniform(0,total_fit)\n",
    "    curr=0\n",
    "    for ch in pop:\n",
    "        curr += fit(binary_to_decimal(ch))\n",
    "        if (curr >= pick):\n",
    "            return ch"
   ]
  },
  {
   "cell_type": "code",
   "execution_count": 210,
   "metadata": {},
   "outputs": [],
   "source": [
    "def cross(p1,p2):\n",
    "    return ''.join(p1[i] if random.random()<0.5 else p2[i] for i in range(bitlength))"
   ]
  },
  {
   "cell_type": "code",
   "execution_count": 211,
   "metadata": {},
   "outputs": [],
   "source": [
    "def mutate(parent):\n",
    "    if random.random() < mutation_rate:\n",
    "        i = random.randint(0,bitlength-1)\n",
    "        parent = parent[:i] + ('0' if parent[i]=='1' else '0') + parent[i+1:]\n",
    "    return parent "
   ]
  },
  {
   "cell_type": "code",
   "execution_count": 212,
   "metadata": {},
   "outputs": [
    {
     "name": "stdout",
     "output_type": "stream",
     "text": [
      "gen 1: best x = 3.7341153470185726, f(x) = 30.145963465895353\n",
      "gen 2: best x = 1.1143695014662756, f(x) = 9.584927890197022\n",
      "gen 3: best x = 1.1925708699902249, f(x) = 9.999937889919917\n",
      "gen 4: best x = 1.1143695014662756, f(x) = 9.584927890197022\n",
      "gen 5: best x = 1.1730205278592376, f(x) = 9.895038742356878\n",
      "gen 6: best x = 1.0361681329423265, f(x) = 9.182148798552166\n",
      "gen 7: best x = 0.41055718475073316, f(x) = 6.400228756202647\n",
      "gen 8: best x = 0.33235581622678395, f(x) = 6.107527837260124\n",
      "gen 9: best x = 0.33235581622678395, f(x) = 6.107527837260124\n",
      "gen 10: best x = 0.9579667644183774, f(x) = 8.791600614985347\n",
      "gen 11: best x = 0.6256109481915934, f(x) = 7.268221903071964\n",
      "gen 12: best x = 0.9579667644183774, f(x) = 8.791600614985347\n",
      "gen 13: best x = 0.6256109481915934, f(x) = 7.268221903071964\n",
      "gen 14: best x = 0.8015640273704789, f(x) = 8.047196972085818\n",
      "gen 15: best x = 0.15640273704789834, f(x) = 5.493670027299769\n",
      "gen 16: best x = 0.019550342130987292, f(x) = 5.0590332422704005\n",
      "gen 17: best x = 0.17595307917888564, f(x) = 5.558818723609188\n",
      "gen 18: best x = 0.019550342130987292, f(x) = 5.0590332422704005\n",
      "gen 19: best x = 0.17595307917888564, f(x) = 5.558818723609188\n",
      "gen 20: best x = 0.019550342130987292, f(x) = 5.0590332422704005\n",
      "gen 21: best x = 0.17595307917888564, f(x) = 5.558818723609188\n",
      "gen 22: best x = 0.15640273704789834, f(x) = 5.493670027299769\n",
      "gen 23: best x = 0.019550342130987292, f(x) = 5.0590332422704005\n",
      "gen 24: best x = 0.019550342130987292, f(x) = 5.0590332422704005\n",
      "gen 25: best x = 0.019550342130987292, f(x) = 5.0590332422704005\n",
      "gen 26: best x = 0.019550342130987292, f(x) = 5.0590332422704005\n",
      "gen 27: best x = 0.17595307917888564, f(x) = 5.558818723609188\n",
      "gen 28: best x = 0.019550342130987292, f(x) = 5.0590332422704005\n",
      "gen 29: best x = 0.15640273704789834, f(x) = 5.493670027299769\n",
      "gen 30: best x = 0.019550342130987292, f(x) = 5.0590332422704005\n",
      "gen 31: best x = 0.17595307917888564, f(x) = 5.558818723609188\n",
      "gen 32: best x = 0.019550342130987292, f(x) = 5.0590332422704005\n",
      "gen 33: best x = 0.019550342130987292, f(x) = 5.0590332422704005\n",
      "gen 34: best x = 0.0, f(x) = 5.0\n",
      "gen 35: best x = 0.0, f(x) = 5.0\n",
      "gen 36: best x = 0.019550342130987292, f(x) = 5.0590332422704005\n",
      "gen 37: best x = 0.019550342130987292, f(x) = 5.0590332422704005\n",
      "gen 38: best x = 0.019550342130987292, f(x) = 5.0590332422704005\n",
      "gen 39: best x = 0.019550342130987292, f(x) = 5.0590332422704005\n",
      "gen 40: best x = 0.0, f(x) = 5.0\n",
      "gen 41: best x = 0.0, f(x) = 5.0\n",
      "gen 42: best x = 0.0, f(x) = 5.0\n",
      "gen 43: best x = 0.019550342130987292, f(x) = 5.0590332422704005\n",
      "gen 44: best x = 0.019550342130987292, f(x) = 5.0590332422704005\n",
      "gen 45: best x = 0.019550342130987292, f(x) = 5.0590332422704005\n",
      "gen 46: best x = 0.0, f(x) = 5.0\n",
      "gen 47: best x = 0.019550342130987292, f(x) = 5.0590332422704005\n",
      "gen 48: best x = 0.019550342130987292, f(x) = 5.0590332422704005\n",
      "gen 49: best x = 0.019550342130987292, f(x) = 5.0590332422704005\n",
      "gen 50: best x = 0.019550342130987292, f(x) = 5.0590332422704005\n",
      "gen 51: best x = 0.0, f(x) = 5.0\n",
      "gen 52: best x = 0.019550342130987292, f(x) = 5.0590332422704005\n",
      "gen 53: best x = 0.0, f(x) = 5.0\n",
      "gen 54: best x = 0.0, f(x) = 5.0\n",
      "gen 55: best x = 0.0, f(x) = 5.0\n",
      "gen 56: best x = 0.0, f(x) = 5.0\n",
      "gen 57: best x = 0.0, f(x) = 5.0\n",
      "gen 58: best x = 0.0, f(x) = 5.0\n",
      "gen 59: best x = 0.0, f(x) = 5.0\n",
      "gen 60: best x = 0.0, f(x) = 5.0\n",
      "gen 61: best x = 0.0, f(x) = 5.0\n",
      "gen 62: best x = 0.0, f(x) = 5.0\n",
      "gen 63: best x = 0.0, f(x) = 5.0\n",
      "gen 64: best x = 0.0, f(x) = 5.0\n",
      "gen 65: best x = 0.0, f(x) = 5.0\n",
      "gen 66: best x = 0.0, f(x) = 5.0\n",
      "gen 67: best x = 0.0, f(x) = 5.0\n",
      "gen 68: best x = 0.0, f(x) = 5.0\n",
      "gen 69: best x = 0.0, f(x) = 5.0\n",
      "gen 70: best x = 0.0, f(x) = 5.0\n",
      "gen 71: best x = 0.0, f(x) = 5.0\n",
      "gen 72: best x = 0.0, f(x) = 5.0\n",
      "gen 73: best x = 0.0, f(x) = 5.0\n",
      "gen 74: best x = 0.0, f(x) = 5.0\n",
      "gen 75: best x = 0.0, f(x) = 5.0\n",
      "gen 76: best x = 0.0, f(x) = 5.0\n",
      "gen 77: best x = 0.0, f(x) = 5.0\n",
      "gen 78: best x = 0.0, f(x) = 5.0\n",
      "gen 79: best x = 0.0, f(x) = 5.0\n",
      "gen 80: best x = 0.0, f(x) = 5.0\n",
      "gen 81: best x = 0.0, f(x) = 5.0\n",
      "gen 82: best x = 0.0, f(x) = 5.0\n",
      "gen 83: best x = 0.0, f(x) = 5.0\n",
      "gen 84: best x = 0.0, f(x) = 5.0\n",
      "gen 85: best x = 0.0, f(x) = 5.0\n",
      "gen 86: best x = 0.0, f(x) = 5.0\n",
      "gen 87: best x = 0.0, f(x) = 5.0\n",
      "gen 88: best x = 0.0, f(x) = 5.0\n",
      "gen 89: best x = 0.0, f(x) = 5.0\n",
      "gen 90: best x = 0.0, f(x) = 5.0\n",
      "gen 91: best x = 0.0, f(x) = 5.0\n",
      "gen 92: best x = 0.0, f(x) = 5.0\n",
      "gen 93: best x = 0.0, f(x) = 5.0\n",
      "gen 94: best x = 0.0, f(x) = 5.0\n",
      "gen 95: best x = 0.0, f(x) = 5.0\n",
      "gen 96: best x = 0.0, f(x) = 5.0\n",
      "gen 97: best x = 0.0, f(x) = 5.0\n",
      "gen 98: best x = 0.0, f(x) = 5.0\n",
      "gen 99: best x = 0.0, f(x) = 5.0\n",
      "gen 100: best x = 0.0, f(x) = 5.0\n"
     ]
    }
   ],
   "source": [
    "pop = gen_pop()\n",
    "for g in range(iter):\n",
    "    new_pop = []\n",
    "    for _ in range(population_size):\n",
    "        p1 = roulette_selection(pop)\n",
    "        p2 = roulette_selection(pop)\n",
    "        child = mutate(cross(p1,p2))\n",
    "        new_pop.append(child)\n",
    "    pop=new_pop\n",
    "    fitvalues = np.array(fit(binary_to_decimal(p)) for p in pop)\n",
    "    best = pop[fitvalues.argmin()]\n",
    "    print(f\"gen {g+1}: best x = {binary_to_decimal(best)}, f(x) = {fun(binary_to_decimal(best))}\")\n",
    "    "
   ]
  },
  {
   "cell_type": "code",
   "execution_count": null,
   "metadata": {},
   "outputs": [
    {
     "data": {
      "text/plain": [
       "'1010101010'"
      ]
     },
     "execution_count": 213,
     "metadata": {},
     "output_type": "execute_result"
    },
    {
     "ename": "",
     "evalue": "",
     "output_type": "error",
     "traceback": [
      "\u001b[1;31mThe Kernel crashed while executing code in the current cell or a previous cell. \n",
      "\u001b[1;31mPlease review the code in the cell(s) to identify a possible cause of the failure. \n",
      "\u001b[1;31mClick <a href='https://aka.ms/vscodeJupyterKernelCrash'>here</a> for more info. \n",
      "\u001b[1;31mView Jupyter <a href='command:jupyter.viewOutput'>log</a> for further details."
     ]
    }
   ],
   "source": [
    "parent ='1010101010'\n",
    "mutate(parent)"
   ]
  }
 ],
 "metadata": {
  "kernelspec": {
   "display_name": "Python 3",
   "language": "python",
   "name": "python3"
  },
  "language_info": {
   "codemirror_mode": {
    "name": "ipython",
    "version": 3
   },
   "file_extension": ".py",
   "mimetype": "text/x-python",
   "name": "python",
   "nbconvert_exporter": "python",
   "pygments_lexer": "ipython3",
   "version": "3.13.1"
  }
 },
 "nbformat": 4,
 "nbformat_minor": 2
}
