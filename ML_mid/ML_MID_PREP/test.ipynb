{
 "cells": [
  {
   "cell_type": "code",
   "execution_count": null,
   "metadata": {},
   "outputs": [
    {
     "data": {
      "text/plain": [
       "'0000001100'"
      ]
     },
     "execution_count": 30,
     "metadata": {},
     "output_type": "execute_result"
    }
   ],
   "source": [
    "def build_stump(x,y,w):\n",
    "    n_samples,n_features = x.shape\n",
    "    best_stump={}\n",
    "\n",
    "    min_error= float('inf')\n",
    "    for feature in range(n_features):\n",
    "        feature_values= np.uniqe(x[feature])\n",
    "        for threshold in feature_values:\n",
    "            for inq in ['lt','gt']:\n",
    "                matches = np.ones(n_samples)\n",
    "                if (inq=='lt'):\n",
    "                    matches[x[:,feature]<threshold]=-1\n",
    "                else:\n",
    "                     matches[x[:,feature]>=threshold]=-1\n",
    "                error=0\n",
    "\n",
    "                for i in range(len(y)):\n",
    "                    if (matches[i]!=y[i]):\n",
    "                        error += w[i]\n",
    "                \n",
    "                if error<min_error:\n",
    "                    min_error=error\n",
    "                    best_stump['feature']=feature\n",
    "                    best_stump['threshold']=threshold\n",
    "                    best_stump['inequality']=inq\n",
    "                    best_stump['error']=error\n",
    "                    best_stump['predictions']=matches\n",
    "    return best_stump\n"
   ]
  },
  {
   "cell_type": "code",
   "execution_count": null,
   "metadata": {},
   "outputs": [],
   "source": [
    "import numpy as np\n",
    "def adaboost(x,y,n_estimators):\n",
    "    n_samples = len(y)\n",
    "    weights = np.ones(n_samples)/n_samples\n",
    "    classifiers=[]\n",
    "    for i in range(n_estimators):\n",
    "        stump =build_stump(x,y,weights)\n",
    "        error =stump['error']\n",
    "        alpha = 0.5*np.log((1-error)/max(error,1e-10))\n",
    "        stump['alpha']=alpha\n",
    "\n",
    "        classifiers.append(stump)\n",
    "\n",
    "        weights *= np.exp(-alpha*y*stump['predictions'])\n",
    "        weight/= sum(weights)\n",
    "    return classifiers\n",
    "\n",
    "def adaboost_predict(classifers,x):\n",
    "    predcitions = np.zeros(x.shape[0])\n",
    "    for classifier in classifers:\n",
    "        stump_predictions = np.ones(x.shape[0])\n",
    "        feature = classifier ['feature']\n",
    "        threshold =classifier['threshold']\n",
    "        inequality = classifier['inequality']\n",
    "        if inequality == 'lt':\n",
    "            stump_predictions[x[:,feature]<threshold]=-1\n",
    "        else :\n",
    "            stump_predictions[x[:,feature]>=threshold]=-1\n",
    "        \n",
    "        predcitions +=classifier['alpha']*stump_predictions\n",
    "\n",
    "    return np.sign(predcitions)\n",
    "\n",
    "\n",
    "def accuracy(actual,predictions):\n",
    "    correct =0.0\n",
    "    for i in range(len(actual)):\n",
    "        correct+=(actual[i]==predictions[i])\n",
    "    return correct/float(len(actual))\n",
    "\n",
    "y_train =np.where(y_train==0,-1,1)\n",
    "classifiers = adaboost(x,y,10)\n",
    "predictions = adaboost_predict(classifers,x_test)\n"
   ]
  }
 ],
 "metadata": {
  "kernelspec": {
   "display_name": "Python 3",
   "language": "python",
   "name": "python3"
  },
  "language_info": {
   "codemirror_mode": {
    "name": "ipython",
    "version": 3
   },
   "file_extension": ".py",
   "mimetype": "text/x-python",
   "name": "python",
   "nbconvert_exporter": "python",
   "pygments_lexer": "ipython3",
   "version": "3.13.1"
  }
 },
 "nbformat": 4,
 "nbformat_minor": 2
}
