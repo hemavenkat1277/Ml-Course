{
 "cells": [
  {
   "cell_type": "code",
   "execution_count": 121,
   "metadata": {},
   "outputs": [],
   "source": [
    "import numpy as np \n",
    "import pandas as pd"
   ]
  },
  {
   "cell_type": "code",
   "execution_count": 122,
   "metadata": {},
   "outputs": [
    {
     "data": {
      "text/plain": [
       "array(['PassengerId', 'Survived', 'Pclass', 'Name', 'Sex', 'Age', 'SibSp',\n",
       "       'Parch', 'Ticket', 'Fare', 'Cabin', 'Embarked'], dtype=object)"
      ]
     },
     "execution_count": 122,
     "metadata": {},
     "output_type": "execute_result"
    }
   ],
   "source": [
    "df = pd.read_csv('Titanic.csv')\n",
    "df.head()\n",
    "pd.unique(df.columns)"
   ]
  },
  {
   "cell_type": "code",
   "execution_count": 123,
   "metadata": {},
   "outputs": [],
   "source": [
    "df.drop(['PassengerId','Name','Ticket','Cabin',\"Embarked\"],axis=1,inplace=True)"
   ]
  },
  {
   "cell_type": "code",
   "execution_count": 124,
   "metadata": {},
   "outputs": [],
   "source": [
    "df['Sex']=df[\"Sex\"].map({\"male\":0,\"female\":1}).astype(int)"
   ]
  },
  {
   "cell_type": "code",
   "execution_count": 125,
   "metadata": {},
   "outputs": [
    {
     "name": "stderr",
     "output_type": "stream",
     "text": [
      "C:\\Users\\venka\\AppData\\Local\\Temp\\ipykernel_21016\\1159505880.py:1: FutureWarning: A value is trying to be set on a copy of a DataFrame or Series through chained assignment using an inplace method.\n",
      "The behavior will change in pandas 3.0. This inplace method will never work because the intermediate object on which we are setting values always behaves as a copy.\n",
      "\n",
      "For example, when doing 'df[col].method(value, inplace=True)', try using 'df.method({col: value}, inplace=True)' or df[col] = df[col].method(value) instead, to perform the operation inplace on the original object.\n",
      "\n",
      "\n",
      "  df['Age'].fillna(df['Age'].mean(),inplace=True)\n"
     ]
    },
    {
     "data": {
      "text/html": [
       "<div>\n",
       "<style scoped>\n",
       "    .dataframe tbody tr th:only-of-type {\n",
       "        vertical-align: middle;\n",
       "    }\n",
       "\n",
       "    .dataframe tbody tr th {\n",
       "        vertical-align: top;\n",
       "    }\n",
       "\n",
       "    .dataframe thead th {\n",
       "        text-align: right;\n",
       "    }\n",
       "</style>\n",
       "<table border=\"1\" class=\"dataframe\">\n",
       "  <thead>\n",
       "    <tr style=\"text-align: right;\">\n",
       "      <th></th>\n",
       "      <th>Survived</th>\n",
       "      <th>Pclass</th>\n",
       "      <th>Sex</th>\n",
       "      <th>Age</th>\n",
       "      <th>SibSp</th>\n",
       "      <th>Parch</th>\n",
       "      <th>Fare</th>\n",
       "    </tr>\n",
       "  </thead>\n",
       "  <tbody>\n",
       "    <tr>\n",
       "      <th>0</th>\n",
       "      <td>0</td>\n",
       "      <td>3</td>\n",
       "      <td>0</td>\n",
       "      <td>19.715807</td>\n",
       "      <td>1</td>\n",
       "      <td>0</td>\n",
       "      <td>6.601942</td>\n",
       "    </tr>\n",
       "    <tr>\n",
       "      <th>1</th>\n",
       "      <td>1</td>\n",
       "      <td>1</td>\n",
       "      <td>1</td>\n",
       "      <td>35.715807</td>\n",
       "      <td>1</td>\n",
       "      <td>0</td>\n",
       "      <td>70.635242</td>\n",
       "    </tr>\n",
       "    <tr>\n",
       "      <th>2</th>\n",
       "      <td>1</td>\n",
       "      <td>3</td>\n",
       "      <td>1</td>\n",
       "      <td>23.715807</td>\n",
       "      <td>0</td>\n",
       "      <td>0</td>\n",
       "      <td>7.276942</td>\n",
       "    </tr>\n",
       "    <tr>\n",
       "      <th>3</th>\n",
       "      <td>1</td>\n",
       "      <td>1</td>\n",
       "      <td>1</td>\n",
       "      <td>32.715807</td>\n",
       "      <td>1</td>\n",
       "      <td>0</td>\n",
       "      <td>52.451942</td>\n",
       "    </tr>\n",
       "    <tr>\n",
       "      <th>4</th>\n",
       "      <td>0</td>\n",
       "      <td>3</td>\n",
       "      <td>0</td>\n",
       "      <td>32.715807</td>\n",
       "      <td>0</td>\n",
       "      <td>0</td>\n",
       "      <td>7.401942</td>\n",
       "    </tr>\n",
       "  </tbody>\n",
       "</table>\n",
       "</div>"
      ],
      "text/plain": [
       "   Survived  Pclass  Sex        Age  SibSp  Parch       Fare\n",
       "0         0       3    0  19.715807      1      0   6.601942\n",
       "1         1       1    1  35.715807      1      0  70.635242\n",
       "2         1       3    1  23.715807      0      0   7.276942\n",
       "3         1       1    1  32.715807      1      0  52.451942\n",
       "4         0       3    0  32.715807      0      0   7.401942"
      ]
     },
     "execution_count": 125,
     "metadata": {},
     "output_type": "execute_result"
    }
   ],
   "source": [
    "df['Age'].fillna(df['Age'].mean(),inplace=True)\n",
    "\n",
    "def z_norm(x):\n",
    "    return x-x.mean()/x.std()\n",
    "df.head()\n",
    "\n",
    "df['Age']=z_norm(df['Age'])\n",
    "\n",
    "df['Fare']=z_norm(df['Fare'])\n",
    "df.head()\n"
   ]
  },
  {
   "cell_type": "code",
   "execution_count": 126,
   "metadata": {},
   "outputs": [
    {
     "data": {
      "text/plain": [
       "Survived      1\n",
       "Pclass        0\n",
       "Sex           1\n",
       "Age         630\n",
       "SibSp       159\n",
       "Parch       678\n",
       "Fare        258\n",
       "dtype: int64"
      ]
     },
     "execution_count": 126,
     "metadata": {},
     "output_type": "execute_result"
    }
   ],
   "source": [
    "x = df.iloc[:, 1:5]\n",
    "y = df.iloc[:, :1]\n",
    "z= df.idxmax(axis=0)\n",
    "z\n",
    "# np.argmax(y)\n",
    "# y"
   ]
  },
  {
   "cell_type": "code",
   "execution_count": 127,
   "metadata": {},
   "outputs": [],
   "source": [
    "def bootstrap_sample(x,y):\n",
    "    n_samples =x.shape[0]\n",
    "    indices =np.random.choice(n_samples,size= n_samples,replace=True)\n",
    "    x_sample = x.iloc[indices,:]\n",
    "    y_sample = y.iloc[indices,:]\n",
    "    return x_sample,y_sample"
   ]
  },
  {
   "cell_type": "code",
   "execution_count": 128,
   "metadata": {},
   "outputs": [],
   "source": [
    "def entropy(y):\n",
    "    unique,counts =np.unique(y,return_counts=True)\n",
    "    prob = counts/sum(counts)\n",
    "    return -np.sum(prob*np.log2(prob+1e-9))\n",
    "\n",
    "def information_gain(x,y,threshold):\n",
    "    n=len(y)\n",
    "    xleft_ind =x <=threshold\n",
    "    xright_ind= x>threshold\n",
    "    if (sum(xleft_ind)==0 or sum(xright_ind)==0):\n",
    "        return 0\n",
    "    leftentropy=entropy(y[xleft_ind])\n",
    "    rightentropy= entropy(y[xright_ind])\n",
    "\n",
    "    nl,nr = sum(xleft_ind),sum(xright_ind)\n",
    "\n",
    "    weighted_entropy =(nl/n)*leftentropy+(nr/n)*rightentropy\n",
    "\n",
    "    return entropy(y)-weighted_entropy\n",
    "\n",
    "class Node:\n",
    "    def __init__(self,feature=None,threshold=None,left=None,right=None,value=None):\n",
    "        self.feature =feature\n",
    "        self.threshold =threshold\n",
    "        self.left =left\n",
    "        self.right =right\n",
    "        self.value =value\n",
    "\n",
    "class DT:\n",
    "    def __init__(self,max_depth=None):\n",
    "        self.max_depth =max_depth\n",
    "        self.root =None\n",
    "    \n",
    "    def fit(self,x,y):\n",
    "        self.root=self.grow_tree(x,y)\n",
    "    \n",
    "    def most_common_label(self,y):\n",
    "        unique,counts =np.unique(y,return_counts= True)\n",
    "        return unique[np.argmax(counts)]\n",
    "    \n",
    "    def grow_tree(self,x,y,depth=0):\n",
    "\n",
    "        n_samples,n_features =x.shape\n",
    "        n_labels= len(np.unique(y))\n",
    "\n",
    "        if (depth>= self.max_depth or n_labels ==1 or n_samples==0):\n",
    "            leaf_value = self.most_common_label(y)\n",
    "            return Node(value=leaf_value)\n",
    "        \n",
    "        best_gain=-1\n",
    "        split_feature,split_thresh =None,None\n",
    "        for feature_id in range(n_features):\n",
    "            x_column= x.iloc[:,feature_id]\n",
    "            thresholds =np.unique(x_column)\n",
    "\n",
    "            for threshold in thresholds:\n",
    "                gain =information_gain(x_column,y,threshold)\n",
    "                if gain>best_gain:\n",
    "                    best_gain=gain\n",
    "                    split_thresh=threshold\n",
    "                    split_feature=feature_id\n",
    "        \n",
    "        left_indices = x.iloc[:,split_feature]<=split_thresh\n",
    "        right_indices = x.iloc[:,split_feature]>split_thresh\n",
    "\n",
    "        left= self.grow_tree(x[left_indices],y[left_indices],depth+1)\n",
    "        right =self.grow_tree(x[right_indices],y[right_indices],depth+1)\n",
    "\n",
    "        return Node(split_feature,split_thresh,left,right)\n",
    "    \n",
    "    def traverse_tree(self,x,node):\n",
    "        if node.value is not None:\n",
    "            return node.value\n",
    "        if x[node.feature]<= node.threshold:\n",
    "            return self.traverse_tree(x,node.left)\n",
    "        return self.traverse_tree(x,node.right)\n",
    "    \n",
    "    def predict(self,x):\n",
    "        return np.array([self.traverse_tree(x,self.root)])"
   ]
  },
  {
   "cell_type": "code",
   "execution_count": 129,
   "metadata": {},
   "outputs": [],
   "source": [
    "def train_dt(x_train,y_train,max_depth=None):\n",
    "    dt= DT(max_depth)\n",
    "    dt.fit(x_train,y_train)\n",
    "    return dt"
   ]
  },
  {
   "cell_type": "code",
   "execution_count": 130,
   "metadata": {},
   "outputs": [],
   "source": [
    "def bagging(X_train, y_train, n_trees=10, max_depth=None):\n",
    "    trees = []\n",
    "    for _ in range(n_trees):\n",
    "        X_sample, y_sample = bootstrap_sample(X_train, y_train)\n",
    "        tree = DT(max_depth)\n",
    "        tree.fit(X_sample,y_sample)\n",
    "        trees.append(tree)\n",
    "    return trees"
   ]
  },
  {
   "cell_type": "code",
   "execution_count": 131,
   "metadata": {},
   "outputs": [],
   "source": [
    "def predict_with_bagging(x,tree):\n",
    "    predictions = np.array([tree.predict(xi) for xi in x])\n",
    "    return predictions.T"
   ]
  },
  {
   "cell_type": "code",
   "execution_count": 132,
   "metadata": {},
   "outputs": [
    {
     "ename": "UFuncTypeError",
     "evalue": "ufunc 'greater_equal' did not contain a loop with signature matching types (<class 'numpy.dtypes.Int64DType'>, <class 'numpy.dtypes.StrDType'>) -> None",
     "output_type": "error",
     "traceback": [
      "\u001b[1;31m---------------------------------------------------------------------------\u001b[0m",
      "\u001b[1;31mUFuncTypeError\u001b[0m                            Traceback (most recent call last)",
      "Cell \u001b[1;32mIn[132], line 18\u001b[0m\n\u001b[0;32m     15\u001b[0m trees \u001b[38;5;241m=\u001b[39m bagging(x_train, y_train, n_trees\u001b[38;5;241m=\u001b[39mn_trees, max_depth\u001b[38;5;241m=\u001b[39mmax_depth)\n\u001b[0;32m     17\u001b[0m y_pred  \u001b[38;5;241m=\u001b[39m[]\n\u001b[1;32m---> 18\u001b[0m yprd\u001b[38;5;241m=\u001b[39m \u001b[43mpredict_with_bagging\u001b[49m\u001b[43m(\u001b[49m\u001b[43mx_test\u001b[49m\u001b[43m,\u001b[49m\u001b[43m \u001b[49m\u001b[43mtrees\u001b[49m\u001b[43m[\u001b[49m\u001b[38;5;241;43m0\u001b[39;49m\u001b[43m]\u001b[49m\u001b[43m)\u001b[49m\n\u001b[0;32m     21\u001b[0m accuracy \u001b[38;5;241m=\u001b[39m np\u001b[38;5;241m.\u001b[39mmean(y_pred \u001b[38;5;241m==\u001b[39m y_test\u001b[38;5;241m.\u001b[39mvalues\u001b[38;5;241m.\u001b[39mflatten())\n\u001b[0;32m     22\u001b[0m \u001b[38;5;28mprint\u001b[39m(\u001b[38;5;124mf\u001b[39m\u001b[38;5;124m\"\u001b[39m\u001b[38;5;124mAccuracy with Bagging: \u001b[39m\u001b[38;5;132;01m{\u001b[39;00maccuracy\u001b[38;5;241m*\u001b[39m\u001b[38;5;241m100\u001b[39m\u001b[38;5;132;01m:\u001b[39;00m\u001b[38;5;124m.4f\u001b[39m\u001b[38;5;132;01m}\u001b[39;00m\u001b[38;5;124m\"\u001b[39m)\n",
      "Cell \u001b[1;32mIn[131], line 2\u001b[0m, in \u001b[0;36mpredict_with_bagging\u001b[1;34m(x, tree)\u001b[0m\n\u001b[0;32m      1\u001b[0m \u001b[38;5;28;01mdef\u001b[39;00m \u001b[38;5;21mpredict_with_bagging\u001b[39m(x,tree):\n\u001b[1;32m----> 2\u001b[0m     predictions \u001b[38;5;241m=\u001b[39m np\u001b[38;5;241m.\u001b[39marray([\u001b[43mtree\u001b[49m\u001b[38;5;241;43m.\u001b[39;49m\u001b[43mpredict\u001b[49m\u001b[43m(\u001b[49m\u001b[43mxi\u001b[49m\u001b[43m)\u001b[49m \u001b[38;5;28;01mfor\u001b[39;00m xi \u001b[38;5;129;01min\u001b[39;00m x])\n\u001b[0;32m      3\u001b[0m     \u001b[38;5;28;01mreturn\u001b[39;00m predictions\u001b[38;5;241m.\u001b[39mT\n",
      "Cell \u001b[1;32mIn[128], line 79\u001b[0m, in \u001b[0;36mDT.predict\u001b[1;34m(self, x)\u001b[0m\n\u001b[0;32m     78\u001b[0m \u001b[38;5;28;01mdef\u001b[39;00m \u001b[38;5;21mpredict\u001b[39m(\u001b[38;5;28mself\u001b[39m,x):\n\u001b[1;32m---> 79\u001b[0m     \u001b[38;5;28;01mreturn\u001b[39;00m np\u001b[38;5;241m.\u001b[39marray([\u001b[38;5;28;43mself\u001b[39;49m\u001b[38;5;241;43m.\u001b[39;49m\u001b[43mtraverse_tree\u001b[49m\u001b[43m(\u001b[49m\u001b[43mx\u001b[49m\u001b[43m,\u001b[49m\u001b[38;5;28;43mself\u001b[39;49m\u001b[38;5;241;43m.\u001b[39;49m\u001b[43mroot\u001b[49m\u001b[43m)\u001b[49m])\n",
      "Cell \u001b[1;32mIn[128], line 74\u001b[0m, in \u001b[0;36mDT.traverse_tree\u001b[1;34m(self, x, node)\u001b[0m\n\u001b[0;32m     72\u001b[0m \u001b[38;5;28;01mif\u001b[39;00m node\u001b[38;5;241m.\u001b[39mvalue \u001b[38;5;129;01mis\u001b[39;00m \u001b[38;5;129;01mnot\u001b[39;00m \u001b[38;5;28;01mNone\u001b[39;00m:\n\u001b[0;32m     73\u001b[0m     \u001b[38;5;28;01mreturn\u001b[39;00m node\u001b[38;5;241m.\u001b[39mvalue\n\u001b[1;32m---> 74\u001b[0m \u001b[38;5;28;01mif\u001b[39;00m \u001b[43mx\u001b[49m\u001b[43m[\u001b[49m\u001b[43mnode\u001b[49m\u001b[38;5;241;43m.\u001b[39;49m\u001b[43mfeature\u001b[49m\u001b[43m]\u001b[49m\u001b[38;5;241;43m<\u001b[39;49m\u001b[38;5;241;43m=\u001b[39;49m\u001b[43m \u001b[49m\u001b[43mnode\u001b[49m\u001b[38;5;241;43m.\u001b[39;49m\u001b[43mthreshold\u001b[49m:\n\u001b[0;32m     75\u001b[0m     \u001b[38;5;28;01mreturn\u001b[39;00m \u001b[38;5;28mself\u001b[39m\u001b[38;5;241m.\u001b[39mtraverse_tree(x,node\u001b[38;5;241m.\u001b[39mleft)\n\u001b[0;32m     76\u001b[0m \u001b[38;5;28;01mreturn\u001b[39;00m \u001b[38;5;28mself\u001b[39m\u001b[38;5;241m.\u001b[39mtraverse_tree(x,node\u001b[38;5;241m.\u001b[39mright)\n",
      "\u001b[1;31mUFuncTypeError\u001b[0m: ufunc 'greater_equal' did not contain a loop with signature matching types (<class 'numpy.dtypes.Int64DType'>, <class 'numpy.dtypes.StrDType'>) -> None"
     ]
    }
   ],
   "source": [
    "from sklearn.model_selection import train_test_split\n",
    "# df.dtypes\n",
    "for i in range(100):\n",
    "    x = df.iloc[:, 1:5]\n",
    "    y = df.iloc[:, :1]\n",
    "    x_train, x_test, y_train, y_test = train_test_split(x, y, test_size=0.2, random_state=42)\n",
    "\n",
    "    colls=len(x.columns)-1\n",
    "    n_trees = colls**0.5\n",
    "    n_trees = int(n_trees)\n",
    "    max_depth = 5\n",
    "    x_train = x_train.apply(pd.to_numeric, errors='coerce')  # Converts all columns to numeric\n",
    "    x_test = x_test.apply(pd.to_numeric, errors='coerce')    # Same for test set\n",
    "\n",
    "    trees = bagging(x_train, y_train, n_trees=n_trees, max_depth=max_depth)\n",
    "    \n",
    "    y_pred  =[]\n",
    "    yprd= predict_with_bagging(x_test, trees[0])\n",
    "    \n",
    "    \n",
    "    accuracy = np.mean(y_pred == y_test.values.flatten())\n",
    "    print(f\"Accuracy with Bagging: {accuracy*100:.4f}\")"
   ]
  }
 ],
 "metadata": {
  "kernelspec": {
   "display_name": "Python 3",
   "language": "python",
   "name": "python3"
  },
  "language_info": {
   "codemirror_mode": {
    "name": "ipython",
    "version": 3
   },
   "file_extension": ".py",
   "mimetype": "text/x-python",
   "name": "python",
   "nbconvert_exporter": "python",
   "pygments_lexer": "ipython3",
   "version": "3.13.1"
  }
 },
 "nbformat": 4,
 "nbformat_minor": 2
}
