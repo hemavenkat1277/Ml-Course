{
 "cells": [
  {
   "cell_type": "code",
   "execution_count": null,
   "metadata": {},
   "outputs": [],
   "source": [
    "import numpy as np\n",
    "import pandas as pd\n",
    "import matplotlib.pyplot as plt"
   ]
  },
  {
   "cell_type": "code",
   "execution_count": null,
   "metadata": {},
   "outputs": [],
   "source": [
    "df=pd.read_csv('iris.csv')\n",
    "df['Species'].unique()"
   ]
  },
  {
   "cell_type": "code",
   "execution_count": null,
   "metadata": {},
   "outputs": [],
   "source": [
    "for i in range(len(df.columns)):\n",
    "    c=0\n",
    "    c+=sum(1 for x in df.iloc[:,i] if pd.isna(x))\n",
    "    print(f\"col: {df.columns[i]} sum : {c}\")"
   ]
  },
  {
   "cell_type": "code",
   "execution_count": null,
   "metadata": {},
   "outputs": [],
   "source": [
    "df.head()\n",
    "\n",
    "df['Species'].replace({'Iris-setosa':0,'Iris-versicolor':1,'Iris-virginica':2},inplace=True)\n",
    "df"
   ]
  },
  {
   "cell_type": "code",
   "execution_count": null,
   "metadata": {},
   "outputs": [],
   "source": [
    "#sigmoid\n",
    "def sigmoid(z):\n",
    "    return 1/(1+np.exp(-z))\n",
    "\n",
    "from sklearn.model_selection import train_test_split\n",
    "\n",
    "x=df.drop(df.columns[[0,3,4]],axis=1)\n",
    "y=df.iloc[:,5]\n",
    "\n",
    "x_train,x_test,y_train,y_test =train_test_split(x,y,test_size=0.2,random_state=42)\n",
    "y.head()"
   ]
  },
  {
   "cell_type": "code",
   "execution_count": null,
   "metadata": {},
   "outputs": [],
   "source": [
    "for i in range(len(y_train)):\n",
    "    z=sum((x_train.iloc[i,:]))\n",
    "    # print(z)\n",
    "    print(f\" {z} : {y[i]}\")"
   ]
  },
  {
   "cell_type": "code",
   "execution_count": null,
   "metadata": {},
   "outputs": [],
   "source": [
    "def logistic(x,y,lr,epochs):\n",
    "    cost_history= []\n",
    "    m,n =x.shape\n",
    "    weights = np.zeros(n)\n",
    "    bias =np.random.rand(1)\n",
    "    for i in range(epochs):\n",
    "        y_pred = np.dot(x,weights)+bias\n",
    "        z=sigmoid(y_pred)\n",
    "        loss = "
   ]
  }
 ],
 "metadata": {
  "kernelspec": {
   "display_name": "Python 3",
   "language": "python",
   "name": "python3"
  },
  "language_info": {
   "codemirror_mode": {
    "name": "ipython",
    "version": 3
   },
   "file_extension": ".py",
   "mimetype": "text/x-python",
   "name": "python",
   "nbconvert_exporter": "python",
   "pygments_lexer": "ipython3",
   "version": "3.13.1"
  }
 },
 "nbformat": 4,
 "nbformat_minor": 2
}
