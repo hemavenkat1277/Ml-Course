{
 "cells": [
  {
   "cell_type": "code",
   "execution_count": 47,
   "metadata": {},
   "outputs": [],
   "source": [
    "import numpy as np\n",
    "import pandas as pd\n",
    "import matplotlib as plt\n"
   ]
  },
  {
   "cell_type": "code",
   "execution_count": 48,
   "metadata": {},
   "outputs": [],
   "source": [
    "df=pd.read_csv('Titanic.csv')"
   ]
  },
  {
   "cell_type": "code",
   "execution_count": 49,
   "metadata": {},
   "outputs": [],
   "source": [
    "df.drop(columns=['PassengerId','Name','SibSp','Parch','Ticket','Cabin','Embarked'],inplace=True)"
   ]
  },
  {
   "cell_type": "code",
   "execution_count": 50,
   "metadata": {},
   "outputs": [],
   "source": [
    "df['Sex']=df['Sex'].map({'male':0,'female':1}).astype('int64')"
   ]
  },
  {
   "cell_type": "code",
   "execution_count": 51,
   "metadata": {},
   "outputs": [
    {
     "data": {
      "text/plain": [
       "dtype('int64')"
      ]
     },
     "execution_count": 51,
     "metadata": {},
     "output_type": "execute_result"
    }
   ],
   "source": [
    "df['Sex'].dtype"
   ]
  },
  {
   "cell_type": "code",
   "execution_count": 52,
   "metadata": {},
   "outputs": [],
   "source": [
    "df.fillna(df.mean(),inplace=True)"
   ]
  },
  {
   "cell_type": "code",
   "execution_count": 53,
   "metadata": {},
   "outputs": [],
   "source": [
    "def z_norm(data):\n",
    "    mea=data.mean()\n",
    "    st=data.std()\n",
    "    z=(data-mea)/st\n",
    "    return z\n"
   ]
  },
  {
   "cell_type": "code",
   "execution_count": 54,
   "metadata": {},
   "outputs": [],
   "source": [
    "df['Age']=z_norm(df['Age'])\n",
    "df['Fare']=z_norm(df['Fare'])"
   ]
  },
  {
   "cell_type": "code",
   "execution_count": 55,
   "metadata": {},
   "outputs": [],
   "source": [
    "x=df.iloc[:,1:]\n",
    "y=df.iloc[:,:1]"
   ]
  },
  {
   "cell_type": "code",
   "execution_count": 56,
   "metadata": {},
   "outputs": [],
   "source": [
    "from sklearn.model_selection import train_test_split"
   ]
  },
  {
   "cell_type": "code",
   "execution_count": 57,
   "metadata": {},
   "outputs": [],
   "source": [
    "x_train,x_test,y_train,y_test=train_test_split(x,y,test_size=0.2,random_state=0)"
   ]
  },
  {
   "cell_type": "code",
   "execution_count": 58,
   "metadata": {},
   "outputs": [],
   "source": [
    "\n",
    "def sig_moid(z):\n",
    "    return 1/(1+np.exp(-z))\n",
    "def logistic_regression(x,y,alpha,epochs):\n",
    "    m,m1=np.shape(x)\n",
    "    n=len(y)\n",
    "    y = np.array(y).ravel()\n",
    "    w=np.ones(m1)\n",
    "    cost_history=[]\n",
    "    bias=0;\n",
    "    for i in range(epochs):\n",
    "        h=np.dot(x,w)+bias\n",
    "        a=sig_moid(h)\n",
    "        loss=(-1/n)*np.sum(y*np.log(a)+(1-y)*np.log(1-a))\n",
    "        dz=a-y\n",
    "        dw=(1/n)*np.dot(x.T,dz)\n",
    "        db=(1/n)*np.sum(dz)\n",
    "        w=w-alpha*dw\n",
    "        bias=bias-alpha*db\n",
    "        if i%10==0:\n",
    "            cost_history.append(loss)\n",
    "    return w,bias,cost_history\n",
    "def predict(x,w,bias):\n",
    "    z=np.dot(x,w)+bias\n",
    "    y_pred=sig_moid(z)\n",
    "    y_pred_cls=[1 if i>0.5 else 0 for i in y_pred]\n",
    "    return y_pred_cls\n",
    "\n"
   ]
  },
  {
   "cell_type": "code",
   "execution_count": 59,
   "metadata": {},
   "outputs": [],
   "source": [
    "w,b,c=logistic_regression(x_train,y_train,0.01,1000)"
   ]
  },
  {
   "cell_type": "code",
   "execution_count": 60,
   "metadata": {},
   "outputs": [],
   "source": [
    "y_pred=predict(x_test,w,b)"
   ]
  },
  {
   "cell_type": "code",
   "execution_count": 61,
   "metadata": {},
   "outputs": [
    {
     "data": {
      "image/png": "[encoded data removed]",
      "text/plain": [
       "<Figure size 800x600 with 1 Axes>"
      ]
     },
     "metadata": {},
     "output_type": "display_data"
    }
   ],
   "source": [
    "#plot cost function\n",
    "import matplotlib.pyplot as plt \n",
    "plt.figure(figsize=(8, 6))\n",
    "plt.plot(range(len(c)), c, color=\"blue\")\n",
    "plt.title(\"Cost Function \")\n",
    "plt.xlabel(\"Iterations\")\n",
    "plt.ylabel(\"Cost\")\n",
    "plt.grid(True)\n",
    "plt.show()"
   ]
  },
  {
   "cell_type": "code",
   "execution_count": 62,
   "metadata": {},
   "outputs": [
    {
     "name": "stdout",
     "output_type": "stream",
     "text": [
      "144\n",
      "179\n",
      "80.44692737430168\n"
     ]
    }
   ],
   "source": [
    "#accuracy\n",
    "count=0\n",
    "for i in range(len(y_pred)):\n",
    "    if y_pred[i]==y_test.iloc[i,0]:\n",
    "        count+=1\n",
    "accuracy=count/len(y_pred)\n",
    "print(count)\n",
    "print(len(y_pred))\n",
    "print(accuracy*100)"
   ]
  },
  {
   "cell_type": "code",
   "execution_count": 63,
   "metadata": {},
   "outputs": [],
   "source": [
    "#multi-class classification\n",
    "df1=pd.read_csv('Iris.csv')"
   ]
  },
  {
   "cell_type": "code",
   "execution_count": 64,
   "metadata": {},
   "outputs": [],
   "source": [
    "df1['Species']=df1['Species'].map({'Iris-setosa':0,'Iris-versicolor':1,'Iris-virginica':2}).astype('int64')"
   ]
  },
  {
   "cell_type": "code",
   "execution_count": 65,
   "metadata": {},
   "outputs": [],
   "source": [
    "x1_train,x1_test,y1_train,y1_test=train_test_split(df1.iloc[:,:4],df1.iloc[:,5],test_size=0.2,random_state=0)"
   ]
  },
  {
   "cell_type": "code",
   "execution_count": 66,
   "metadata": {},
   "outputs": [],
   "source": [
    "def sigmoid(z):\n",
    "    return 1 / (1 + np.exp(-z))\n",
    "\n",
    "def logistic_regression_multi_class(X, y, alpha, epochs, num_classes):\n",
    "    X = np.array(X)\n",
    "    y = np.array(y).flatten()  \n",
    "    if X.shape[0] != y.shape[0]:\n",
    "        print(\"Number of samples in X and y must match!\")\n",
    "        return None,None,None\n",
    "    m, n = X.shape\n",
    "    weights = np.zeros((num_classes, n))\n",
    "    biases = np.zeros(num_classes)\n",
    "    cost_history = []\n",
    "\n",
    "    for i in range(num_classes):\n",
    "        y_c = (y == i).astype(int) \n",
    "        w = np.zeros(n)\n",
    "        b = 0\n",
    "\n",
    "        for epoch in range(epochs):\n",
    "            z = np.dot(X, w) + b  \n",
    "            a = sigmoid(z)  \n",
    "            a = np.clip(a, 1e-10, 1 - 1e-10)  \n",
    "\n",
    "            # Loss calculation\n",
    "            loss = (-1 / m) * np.sum(y_c * np.log(a) + (1 - y_c) * np.log(1 - a))\n",
    "\n",
    "            # Gradient calculation\n",
    "            dz = a - y_c  \n",
    "            dw = (1 / m) * np.dot(X.T, dz)  \n",
    "            db = (1 / m) * np.sum(dz)  \n",
    "            w -= alpha * dw\n",
    "            b -= alpha * db\n",
    "\n",
    "            if epoch % 10 == 0:\n",
    "                cost_history.append(loss)\n",
    "\n",
    "        weights[i] = w\n",
    "        biases[i] = b\n",
    "\n",
    "    return weights, biases, cost_history\n",
    "\n",
    "\n",
    "\n",
    "def predict_multi_class(X, weights, biases):\n",
    "    z = np.dot(X, weights.T) + biases\n",
    "    probabilities = sigmoid(z)\n",
    "    predictions = np.argmax(probabilities, axis=1)\n",
    "    return predictions\n"
   ]
  },
  {
   "cell_type": "code",
   "execution_count": 67,
   "metadata": {},
   "outputs": [],
   "source": [
    "w1,b1,c1=logistic_regression_multi_class(x1_train,y1_train,0.01,1000,3)"
   ]
  },
  {
   "cell_type": "code",
   "execution_count": 68,
   "metadata": {},
   "outputs": [
    {
     "data": {
      "text/plain": [
       "array([2, 2, 0, 2, 0, 2, 0, 2, 2, 2, 2, 0, 2, 0, 0, 0, 2, 2, 0, 0, 2, 2,\n",
       "       0, 0, 2, 0, 0, 2, 2, 0])"
      ]
     },
     "execution_count": 68,
     "metadata": {},
     "output_type": "execute_result"
    }
   ],
   "source": [
    "y_pred1=predict_multi_class(x1_test,w1,b1)\n",
    "y_pred1"
   ]
  }
 ],
 "metadata": {
  "kernelspec": {
   "display_name": "Python 3",
   "language": "python",
   "name": "python3"
  },
  "language_info": {
   "codemirror_mode": {
    "name": "ipython",
    "version": 3
   },
   "file_extension": ".py",
   "mimetype": "text/x-python",
   "name": "python",
   "nbconvert_exporter": "python",
   "pygments_lexer": "ipython3",
   "version": "3.13.1"
  }
 },
 "nbformat": 4,
 "nbformat_minor": 2
}
